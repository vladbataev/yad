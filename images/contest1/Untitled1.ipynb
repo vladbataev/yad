{
 "cells": [
  {
   "cell_type": "code",
   "execution_count": 1,
   "metadata": {
    "collapsed": true
   },
   "outputs": [],
   "source": [
    "%matplotlib inline\n",
    "import skimage\n",
    "from skimage import io, color\n",
    "from matplotlib import pyplot as plt\n",
    "from pylab import rcParams\n",
    "import numpy as np\n",
    "import glob\n",
    "import os\n",
    "import sys\n",
    "import pickle\n",
    "rcParams['figure.figsize'] = 10, 10\n",
    "\n",
    "EPS = sys.float_info.epsilon"
   ]
  },
  {
   "cell_type": "code",
   "execution_count": 2,
   "metadata": {
    "collapsed": true
   },
   "outputs": [],
   "source": [
    "def get_convolution(img, c_filter):\n",
    "    height, width = img.shape\n",
    "    height_filter, width_filter = c_filter.shape\n",
    "    x_size = height_filter // 2\n",
    "    y_size = width_filter // 2\n",
    "    convolution = np.zeros(img.shape)\n",
    "    for x in xrange(x_size, height - x_size):\n",
    "        for y in xrange(y_size, width - y_size):\n",
    "            convolution[x, y] = np.sum(np.multiply(c_filter, \n",
    "                                            img[x - x_size:x + x_size + 1, y - y_size: y + y_size + 1]))\n",
    "    return convolution\n",
    "\n",
    "def get_x_gradient(img, x_filter=np.array([[-1 , 0, 1]])):\n",
    "    return get_convolution(img, x_filter)\n",
    "\n",
    "def get_y_gradient(img, y_filter=np.array([[-1], [0], [1]])):\n",
    "    return get_convolution(img, y_filter)\n",
    "\n",
    "def calcDerv(img):\n",
    "    Ix = np.zeros(img.shape)\n",
    "    Iy = np.zeros(img.shape)\n",
    "    uuimg = img[0:img.shape[0]-2,1:img.shape[1]-1]\n",
    "    ddimg = img[2:img.shape[0],1:img.shape[1]-1]\n",
    "    llimg = img[1:img.shape[0]-1, 0:img.shape[1]-2]\n",
    "    rrimg = img[1:img.shape[0]-1, 2:img.shape[1]]\n",
    "    Ix[1:Ix.shape[0]-1, 1:Iy.shape[1]-1] = ddimg - uuimg\n",
    "    Iy[1:Iy.shape[0]-1, 1:Iy.shape[1]-1] = rrimg - llimg\n",
    "    return Ix, Iy"
   ]
  },
  {
   "cell_type": "code",
   "execution_count": 3,
   "metadata": {
    "collapsed": true
   },
   "outputs": [],
   "source": [
    "filename = './39000.png'\n",
    "\n",
    "img = skimage.color.rgb2gray(skimage.io.imread(filename).astype('float64'))"
   ]
  },
  {
   "cell_type": "code",
   "execution_count": 9,
   "metadata": {
    "collapsed": false
   },
   "outputs": [
    {
     "name": "stdout",
     "output_type": "stream",
     "text": [
      "0.0575489997864\n",
      "0.000482082366943\n"
     ]
    }
   ],
   "source": [
    "import time\n",
    "\n",
    "start_time = time.time()\n",
    "get_x_gradient(img)\n",
    "get_y_gradient(img)\n",
    "print(time.time() - start_time)\n",
    "start_time = time.time()\n",
    "calcDerv(img)\n",
    "print(time.time() - start_time)"
   ]
  }
 ],
 "metadata": {
  "kernelspec": {
   "display_name": "Python 2",
   "language": "python",
   "name": "python2"
  },
  "language_info": {
   "codemirror_mode": {
    "name": "ipython",
    "version": 2
   },
   "file_extension": ".py",
   "mimetype": "text/x-python",
   "name": "python",
   "nbconvert_exporter": "python",
   "pygments_lexer": "ipython2",
   "version": "2.7.12"
  }
 },
 "nbformat": 4,
 "nbformat_minor": 0
}
