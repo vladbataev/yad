{
 "cells": [
  {
   "cell_type": "code",
   "execution_count": 44,
   "metadata": {
    "collapsed": true
   },
   "outputs": [],
   "source": [
    "%matplotlib inline\n",
    "import skimage\n",
    "from skimage import io, color\n",
    "from matplotlib import pyplot as plt\n",
    "from pylab import rcParams\n",
    "import numpy as np\n",
    "import glob\n",
    "import os\n",
    "import sys\n",
    "import pickle\n",
    "rcParams['figure.figsize'] = 10, 10\n",
    "\n",
    "EPS = sys.float_info.epsilon"
   ]
  },
  {
   "cell_type": "code",
   "execution_count": 45,
   "metadata": {
    "collapsed": true
   },
   "outputs": [],
   "source": [
    "import time\n",
    "\n",
    "def show_imgs(imgs, cmap='gray'):\n",
    "    for img in imgs:\n",
    "        plt.figure()\n",
    "        if cmap == 'gray':\n",
    "            plt.imshow(img, cmap=cmap)\n",
    "        else:\n",
    "            plt.imshow(img)\n",
    "            \n",
    "def work_time(input_data, output_data, f):\n",
    "    size = len(input_data)\n",
    "    start_time = time.time()\n",
    "    parts = np.linspace(0, size, 9)\n",
    "    parts = [int(i) for i in parts]\n",
    "    for i in xrange(size):\n",
    "        output_data.append(f(input_data[i]).astype('float64'))\n",
    "        if i in parts:\n",
    "            print(\"Done {0:.1f} % for {1:.3f} sec\".format(float(i) / size * 100, time.time() - start_time))\n",
    "            \n",
    "def save(imgs, filename):\n",
    "    with open(filename, 'wb') as pickle_file:\n",
    "        pickle.dump(imgs, pickle_file)"
   ]
  },
  {
   "cell_type": "code",
   "execution_count": null,
   "metadata": {
    "collapsed": false
   },
   "outputs": [],
   "source": [
    "%%time\n",
    "\n",
    "imgs = []\n",
    "work_time(glob.glob(os.path.join('./train', '*.png')), imgs, skimage.color.rgb2gray(skimage.io.imread))"
   ]
  },
  {
   "cell_type": "code",
   "execution_count": 4,
   "metadata": {
    "collapsed": true
   },
   "outputs": [],
   "source": [
    "def get_convolution(img, c_filter):\n",
    "    height, width = img.shape\n",
    "    height_filter, width_filter = c_filter.shape\n",
    "    x_size = height_filter // 2\n",
    "    y_size = width_filter // 2\n",
    "    convolution = np.zeros(img.shape)\n",
    "    for x in xrange(x_size, height - x_size):\n",
    "        for y in xrange(y_size, width - y_size):\n",
    "            convolution[x, y] = np.sum(np.multiply(c_filter, \n",
    "                                            img[x - x_size:x + x_size + 1, y - y_size: y + y_size + 1]))\n",
    "    return convolution"
   ]
  },
  {
   "cell_type": "code",
   "execution_count": 27,
   "metadata": {
    "collapsed": false
   },
   "outputs": [],
   "source": [
    "def get_x_gradient(img, x_filter=np.array([[-1 , 0, 1]])):\n",
    "    return get_convolution(img, x_filter)\n",
    "\n",
    "def get_y_gradient(img, y_filter=np.array([[-1], [0], [1]])):\n",
    "    return get_convolution(img, y_filter)\n",
    "\n",
    "def calculate_norm_gradients(img, x_gradient, y_gradient):\n",
    "    height, width = img.shape\n",
    "    norm = np.zeros(img.shape, dtype=np.float64)\n",
    "    for x in xrange(height):\n",
    "        for y in xrange(width):\n",
    "            norm[x, y] = np.sqrt(x_gradient[x, y] ** 2 + y_gradient[x, y] ** 2)\n",
    "    return norm\n",
    "\n",
    "def calculate_angles(img, x_gradient, y_gradient):\n",
    "    height, width = img.shape\n",
    "    angles = np.zeros(img.shape, dtype=np.float64)\n",
    "    for x in xrange(height):\n",
    "        for y in xrange(width):\n",
    "            angles[x, y] = np.arctan2(x_gradient[x, y], y_gradient[x, y])\n",
    "    return angles\n",
    "\n",
    "def to_hist(cell_angles, cell_norm_gradients, bincount=12):\n",
    "    height, width = cell_angles.shape\n",
    "    bins_threshold = np.linspace(-np.pi, np.pi, bincount + 1)\n",
    "    bins = np.zeros(bincount)\n",
    "    for x in xrange(height):\n",
    "        for y in xrange(width):\n",
    "            for bin_number in xrange(bincount - 1):\n",
    "                if bins_threshold[bin_number] <= cell_angles[x, y] < bins_threshold[bin_number + 1]:\n",
    "                    bins[bin_number] += cell_norm_gradients[x, y]\n",
    "    return bins\n",
    "\n",
    "def get_block_vector(block_angles, block_norm_gradients, cell_shape, bincount=12):\n",
    "    block_height, block_width = block_angles.shape\n",
    "    cell_height, cell_width = cell_shape\n",
    "    if block_height % cell_height != 0 or block_width % cell_width != 0:\n",
    "        raise Exception(\"Cell size is not appropriate\")\n",
    "    hists = []\n",
    "    for x in xrange(0, block_height, cell_height):\n",
    "        for y in xrange(0, block_width, cell_width):\n",
    "            hists.append(to_hist(block_angles[x: x + cell_height, y: y + cell_width], \n",
    "                                 block_norm_gradients[x: x + cell_height, y: y + cell_width], bincount))\n",
    "    block_vector = np.concatenate(hists)\n",
    "    norm = np.sqrt(sum(x**2 for x in block_vector) + EPS)\n",
    "    return block_vector / norm\n",
    "    \n",
    "def get_img_vector(img_angles, img_norm_gradients, block_shape, cell_shape, bincount=12):\n",
    "    height, width = img_angles.shape\n",
    "    block_height, block_width = block_shape\n",
    "    cell_height, cell_width = cell_shape\n",
    "    block_vectors = []\n",
    "    for x in xrange(height - block_height):\n",
    "        for y in xrange(width - block_width):\n",
    "            block_vectors.append(get_block_vector(img_angles[x: x + block_height, y: y + block_width],\n",
    "                                                  img_norm_gradients[x: x + block_height, y: y + block_width],\n",
    "                                                  cell_shape, bincount))\n",
    "    return np.concatenate(block_vectors)\n",
    "\n",
    "def build_desciptor(img, block_shape=(8, 8), cell_shape=(4, 4), bincount=12):\n",
    "    img = skimage.color.rgb2gray(img)\n",
    "    I_x = get_x_gradient(img)\n",
    "    I_y = get_y_gradient(img)\n",
    "    angles = calculate_angles(img, I_x, I_y)\n",
    "    norms = calculate_norm_gradients(img, I_x, I_y)\n",
    "    return get_img_vector(angles, norms, block_shape, cell_shape)"
   ]
  },
  {
   "cell_type": "code",
   "execution_count": 28,
   "metadata": {
    "collapsed": false
   },
   "outputs": [
    {
     "data": {
      "text/plain": [
       "(20160,)"
      ]
     },
     "execution_count": 28,
     "metadata": {},
     "output_type": "execute_result"
    }
   ],
   "source": [
    "build_desciptor(imgs[0]).shape"
   ]
  },
  {
   "cell_type": "code",
   "execution_count": 30,
   "metadata": {
    "collapsed": false
   },
   "outputs": [
    {
     "data": {
      "text/plain": [
       "array([ 0.02930691,  0.        ,  0.24568636, ...,  0.        ,\n",
       "        0.        ,  0.        ])"
      ]
     },
     "execution_count": 30,
     "metadata": {},
     "output_type": "execute_result"
    }
   ],
   "source": [
    "build_desciptor(imgs[0])"
   ]
  },
  {
   "cell_type": "code",
   "execution_count": 20,
   "metadata": {
    "collapsed": false
   },
   "outputs": [],
   "source": [
    "temp = get_img_vector(angles, norms, (8, 8), (4, 4))"
   ]
  },
  {
   "cell_type": "code",
   "execution_count": 22,
   "metadata": {
    "collapsed": false
   },
   "outputs": [
    {
     "data": {
      "text/plain": [
       "(29, 28)"
      ]
     },
     "execution_count": 22,
     "metadata": {},
     "output_type": "execute_result"
    }
   ],
   "source": [
    "img.shape"
   ]
  },
  {
   "cell_type": "code",
   "execution_count": 21,
   "metadata": {
    "collapsed": false
   },
   "outputs": [
    {
     "data": {
      "text/plain": [
       "(20160,)"
      ]
     },
     "execution_count": 21,
     "metadata": {},
     "output_type": "execute_result"
    }
   ],
   "source": [
    "temp.shape"
   ]
  }
 ],
 "metadata": {
  "kernelspec": {
   "display_name": "Python 2",
   "language": "python",
   "name": "python2"
  },
  "language_info": {
   "codemirror_mode": {
    "name": "ipython",
    "version": 2
   },
   "file_extension": ".py",
   "mimetype": "text/x-python",
   "name": "python",
   "nbconvert_exporter": "python",
   "pygments_lexer": "ipython2",
   "version": "2.7.12"
  },
  "widgets": {
   "state": {},
   "version": "1.1.1"
  }
 },
 "nbformat": 4,
 "nbformat_minor": 0
}
