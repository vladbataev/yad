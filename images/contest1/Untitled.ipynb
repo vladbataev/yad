{
 "cells": [
  {
   "cell_type": "code",
   "execution_count": 1,
   "metadata": {
    "collapsed": true
   },
   "outputs": [],
   "source": [
    "%matplotlib inline\n",
    "import skimage\n",
    "from skimage import io, color, transform\n",
    "from matplotlib import pyplot as plt\n",
    "from pylab import rcParams\n",
    "import numpy as np\n",
    "import glob\n",
    "import os\n",
    "import sys\n",
    "import pickle\n",
    "from timeit import timeit\n",
    "\n",
    "rcParams['figure.figsize'] = 10, 10\n",
    "\n",
    "EPS = sys.float_info.epsilon"
   ]
  },
  {
   "cell_type": "code",
   "execution_count": 2,
   "metadata": {
    "collapsed": false
   },
   "outputs": [],
   "source": [
    "import time\n",
    "import pandas as pd\n",
    "\n",
    "def show_imgs(imgs, cmap='gray'):\n",
    "    for img in imgs:\n",
    "        plt.figure()\n",
    "        if cmap == 'gray':\n",
    "            plt.imshow(img, cmap=cmap)\n",
    "        else:\n",
    "            plt.imshow(img)\n",
    "            \n",
    "def read_data(input_data, output_data):\n",
    "    size = len(input_data)\n",
    "    start_time = time.time()\n",
    "    parts = np.linspace(0, size, 9)\n",
    "    parts = [int(i) for i in parts]\n",
    "    for i in xrange(size):\n",
    "        img = skimage.io.imread(input_data[i]).astype('float64')\n",
    "        img = skimage.transform.resize(img, (32, 32))\n",
    "        output_data.append(skimage.color.rgb2gray(img))\n",
    "        if i in parts:\n",
    "            print(\"Done {0:.1f} % for {1:.3f} sec\".format(float(i) / size * 100, time.time() - start_time))\n",
    "            \n",
    "def load_target(filename='./gt.csv'):\n",
    "    data = pd.read_csv(filename)\n",
    "    return data['class_id']\n",
    "        \n",
    "def save(data, filename):\n",
    "    with open(filename, 'wb') as pickle_file:\n",
    "        pickle.dump(data, pickle_file)"
   ]
  },
  {
   "cell_type": "code",
   "execution_count": 3,
   "metadata": {
    "collapsed": false
   },
   "outputs": [
    {
     "name": "stdout",
     "output_type": "stream",
     "text": [
      "Done 0.0 % for 0.099 sec\n",
      "Done 12.5 % for 11.163 sec\n",
      "Done 25.0 % for 21.078 sec\n",
      "Done 37.5 % for 32.896 sec\n",
      "Done 50.0 % for 44.420 sec\n",
      "Done 62.5 % for 56.022 sec\n",
      "Done 75.0 % for 68.180 sec\n",
      "Done 87.5 % for 79.237 sec\n",
      "CPU times: user 1min 10s, sys: 3.11 s, total: 1min 13s\n",
      "Wall time: 1min 30s\n"
     ]
    }
   ],
   "source": [
    "%%time\n",
    "\n",
    "imgs = []\n",
    "read_data(sorted(glob.glob(os.path.join('./train', '*.png'))), imgs)"
   ]
  },
  {
   "cell_type": "code",
   "execution_count": 4,
   "metadata": {
    "collapsed": false
   },
   "outputs": [
    {
     "data": {
      "text/plain": [
       "(39209,)"
      ]
     },
     "execution_count": 4,
     "metadata": {},
     "output_type": "execute_result"
    }
   ],
   "source": [
    "target = load_target()\n",
    "target.shape"
   ]
  },
  {
   "cell_type": "code",
   "execution_count": 5,
   "metadata": {
    "collapsed": false
   },
   "outputs": [],
   "source": [
    "def calcDerv(img):\n",
    "    Ix = np.zeros(img.shape)\n",
    "    Iy = np.zeros(img.shape)\n",
    "    uuimg = img[0: img.shape[0] - 2, 1: img.shape[1] - 1]\n",
    "    ddimg = img[2: img.shape[0], 1: img.shape[1] - 1]\n",
    "    llimg = img[1: img.shape[0] - 1, 0: img.shape[1] - 2]\n",
    "    rrimg = img[1: img.shape[0] - 1, 2: img.shape[1]]\n",
    "    Ix[1: Ix.shape[0] - 1, 1: Iy.shape[1] - 1] = ddimg - uuimg\n",
    "    Iy[1: Iy.shape[0] - 1, 1: Iy.shape[1] - 1] = rrimg - llimg\n",
    "    return Ix, Iy\n",
    "\n",
    "def calculate_norm_gradients(img, I_x, I_y):\n",
    "    return (I_x * I_x + I_y * I_y) ** 0.5\n",
    "\n",
    "def calculate_angles(I_x, I_y):\n",
    "    return np.arctan2(I_x, I_y)\n",
    "\n",
    "def hist(cell_angles, cell_norm_gradients, bincount=12):\n",
    "    bins_threshold = np.linspace(-np.pi, np.pi, bincount + 1)\n",
    "    hist, _ = np.histogram(cell_angles, bins=bins_threshold, weights=cell_norm_gradients)\n",
    "    return hist\n",
    "    \n",
    "def get_block_vector(block_angles, block_norm_gradients, cell_shape, bincount=12):\n",
    "    block_height, block_width = block_angles.shape\n",
    "    cell_height, cell_width = cell_shape\n",
    "    if block_height % cell_height != 0 or block_width % cell_width != 0:\n",
    "        raise Exception(\"Cell size is not appropriate\")\n",
    "    block_vector = np.zeros(shape=(bincount * (block_height // cell_height) * (block_width // cell_width), ), \n",
    "                            dtype=np.float64)\n",
    "    counter = 0\n",
    "    for x in xrange(0, block_height, cell_height):\n",
    "        for y in xrange(0, block_width, cell_width):\n",
    "            temp = hist(block_angles[x: x + cell_height, y: y + cell_width], \n",
    "                                 block_norm_gradients[x: x + cell_height, y: y + cell_width], bincount)\n",
    "            block_vector[bincount * counter: bincount * (counter + 1)] = temp\n",
    "            counter += 1\n",
    "    norm = np.sqrt(np.linalg.norm(block_vector) ** 2 + EPS)\n",
    "    return block_vector / norm\n",
    "    \n",
    "def get_img_vector(img_angles, img_norm_gradients, block_shape, cell_shape, bincount=12):\n",
    "    height, width = img_angles.shape\n",
    "    block_height, block_width = block_shape\n",
    "    cell_height, cell_width = cell_shape\n",
    "    length = (height - block_height) * (width - block_width) * (block_height // cell_height) * \\\n",
    "            (block_width // cell_width) * bincount\n",
    "    block_length = (block_height // cell_height) * (block_width // cell_width) * bincount\n",
    "    img_vector = np.zeros(shape=(length, ), dtype=np.float64)\n",
    "    counter = 0\n",
    "    for x in xrange(height - block_height):\n",
    "        for y in xrange(width - block_width):\n",
    "            img_vector[counter * block_length: (counter + 1) * block_length] = get_block_vector(\n",
    "                    img_angles[x: x + block_height, y: y + block_width],\n",
    "                    img_norm_gradients[x: x + block_height, y: y + block_width],\n",
    "                    cell_shape, bincount)\n",
    "            counter += 1\n",
    "    return img_vector\n",
    "\n",
    "def extract_hog(img, block_shape=(20, 20), cell_shape=(4, 4), bincount=12):\n",
    "    I_x, I_y = calcDerv(img)\n",
    "    angles = calculate_angles(I_x, I_y)\n",
    "    norms = calculate_norm_gradients(img, I_x, I_y)\n",
    "    return get_img_vector(angles, norms, block_shape, cell_shape)\n",
    "\n",
    "def fit_and_classify(hogs, train_labels):\n",
    "    clf = svm.SVC(kernel='linear', C=1)\n",
    "    scores = cross_val_score(clf, hogs, train_labels, cv=5)\n",
    "    print (scores)\n",
    "    clf.fit(hogs, train_labels)\n",
    "    return clf"
   ]
  },
  {
   "cell_type": "code",
   "execution_count": 6,
   "metadata": {
    "collapsed": true
   },
   "outputs": [],
   "source": [
    "def extract_hog_a(img, cell_rows=8, cell_cols=8, block_row_cells=2, block_col_cells=2, \n",
    "                bin_count=9, eps=1e-9, mirror_grads=True, use_sobel=False, preserve_channels=False):\n",
    "    height = img.shape[0]\n",
    "    width = img.shape[1]\n",
    "    channels = img.shape[2]\n",
    "    block_rows = block_row_cells * cell_rows\n",
    "    block_cols = block_col_cells * cell_cols\n",
    "    if use_sobel:\n",
    "        Dx = np.array([[-1, 0, 1],\n",
    "                       [-2, 0, 2],\n",
    "                       [-1, 0, 1]])\n",
    "        Dy = np.array([[1, 2, 1],\n",
    "                       [0, 0, 0],\n",
    "                       [-1, -2, -1]])\n",
    "    else:\n",
    "        Dx = np.array([[-1, 0, 1]])\n",
    "        Dy = np.array([[-1], [0], [1]])\n",
    "    if not preserve_channels:\n",
    "        new_img = np.zeros(shape=(height, width, 1))\n",
    "        new_img[:, :, 0] = rgb2gray(img)\n",
    "        img = new_img\n",
    "        channels = 1\n",
    "    shape = (height, width, channels)\n",
    "    Ix = np.zeros(shape=shape)\n",
    "    Iy = np.zeros(shape=shape)\n",
    "    G = np.zeros(shape=shape)\n",
    "    for channel in range(channels):\n",
    "        Ix[:, :, channel] = convolve(img[:, :, channel], Dx, mode='constant', cval=0.0)\n",
    "        Iy[:, :, channel] = convolve(img[:, :, channel], Dy, mode='constant', cval=0.0)\n",
    "    G = np.sqrt(Ix ** 2 + Iy ** 2)\n",
    "    Theta = np.arctan2(Iy, Ix)\n",
    "    if mirror_grads:\n",
    "        Theta[Theta < 0] += np.pi\n",
    "    feats = []\n",
    "    for channel in range(channels):\n",
    "        G_channel = G[:, :, channel]\n",
    "        Theta_channel = Theta[:, :, channel]\n",
    "        for block_row_start in range(height - block_rows):\n",
    "            for block_col_start in range(width - block_cols):\n",
    "                \n",
    "                G_block = G_channel[block_row_start:block_row_start+block_rows,\n",
    "                                    block_col_start:block_col_start+block_cols]\n",
    "                Theta_block = Theta_channel[block_row_start:block_row_start+block_rows,\n",
    "                                            block_col_start:block_col_start+block_cols]\n",
    "                v = []\n",
    "                for block_row_cell in range(block_row_cells):\n",
    "                    for block_col_cell in range(block_col_cells):\n",
    "                        G_cell = G_block[block_row_cell*cell_rows:block_row_cell*cell_rows+cell_rows,\n",
    "                                         block_col_cell*cell_cols:block_col_cell*cell_cols+cell_cols]\n",
    "                        Theta_cell = Theta_block[block_row_cell*cell_rows:block_row_cell*cell_rows+cell_rows,\n",
    "                                                 block_col_cell*cell_cols:block_col_cell*cell_cols+cell_cols]\n",
    "                        if mirror_grads:\n",
    "                            bin_range = (0, np.pi)\n",
    "                        else:\n",
    "                            bin_range = (0, -np.pi)\n",
    "                        hist, _ = np.histogram(Theta_cell.flatten(), bins=bin_count, weights=G_cell.flatten(), range=bin_range)\n",
    "                        v.extend(hist)\n",
    "                v = np.array(v)\n",
    "                v = v / np.sqrt(eps + np.sum(v ** 2))\n",
    "                feats.extend(v)\n",
    "    return np.array(feats)\n",
    "    "
   ]
  },
  {
   "cell_type": "code",
   "execution_count": 7,
   "metadata": {
    "collapsed": false
   },
   "outputs": [
    {
     "name": "stdout",
     "output_type": "stream",
     "text": [
      "0.416364908218\n",
      "CPU times: user 420 ms, sys: 0 ns, total: 420 ms\n",
      "Wall time: 417 ms\n"
     ]
    }
   ],
   "source": [
    "%%time\n",
    "import time\n",
    "start_time = time.time()\n",
    "extract_hog(imgs[0])\n",
    "print(time.time() - start_time)"
   ]
  },
  {
   "cell_type": "code",
   "execution_count": null,
   "metadata": {
    "collapsed": false
   },
   "outputs": [
    {
     "name": "stdout",
     "output_type": "stream",
     "text": [
      "0.000 % is done for 0.503 sec\n",
      "0.099 % is done for 16.608 sec\n",
      "0.199 % is done for 32.705 sec\n",
      "0.298 % is done for 48.993 sec\n",
      "0.398 % is done for 66.560 sec\n",
      "0.500 % is done for 82.546 sec\n",
      "0.599 % is done for 97.720 sec\n",
      "0.699 % is done for 112.898 sec\n"
     ]
    }
   ],
   "source": [
    "%%time\n",
    "import multiprocessing\n",
    "\n",
    "size = len(imgs)\n",
    "start_time = time.time()\n",
    "parts = map(int, np.linspace(0, size, 1001))\n",
    "descriptors = []\n",
    "for i in xrange(len(imgs)):\n",
    "    descriptors.append(extract_hog(imgs[i]))\n",
    "    if i in parts:\n",
    "        print(\"{0:.3f} % is done for {1:.3f} sec\".format(float(i) / size * 100, time.time() - start_time))"
   ]
  }
 ],
 "metadata": {
  "kernelspec": {
   "display_name": "Python 3",
   "language": "python",
   "name": "python3"
  },
  "language_info": {
   "codemirror_mode": {
    "name": "ipython",
    "version": 3
   },
   "file_extension": ".py",
   "mimetype": "text/x-python",
   "name": "python",
   "nbconvert_exporter": "python",
   "pygments_lexer": "ipython3",
   "version": "3.5.2"
  },
  "widgets": {
   "state": {},
   "version": "1.1.1"
  }
 },
 "nbformat": 4,
 "nbformat_minor": 0
}
