{
 "cells": [
  {
   "cell_type": "markdown",
   "metadata": {},
   "source": [
    "## Часть 6. Линейная Алгебра и Машинное Обучение  "
   ]
  },
  {
   "cell_type": "markdown",
   "metadata": {},
   "source": [
    "Хорошее знание линейной алгебры очень важно в современном машинном обучении. В этом задании Вам предлагается реализовать метод машинного обучения применив знания матричного дифференцирования и итерационных методов решения систем уравнений :) \n",
    "\n",
    "В области машинного обучения одним из самых популярных методов бинарной классификации (предсказываем один из двух классов, $+1$ или $-1$ для каждого объекта) является логистическая регрессия. Она выводится из метода максимального правдоподобия, который приводит к следующей задаче оптимизации:\n",
    "\n",
    "$$ L(w, X, y) = \\sum_{i = 0}^{N} log (1 + exp(-y_ix_i^Tw)) + \\frac{C}{2} ||w||^2 \\longrightarrow \\min_w$$\n",
    "$$X \\in R^{N \\times M}, x \\in R^{M}, w \\in R^{M}, y \\in \\{-1, 1\\}^N$$\n",
    "\n",
    "Здесь $X$ - матрица объекты-признаки для обучающей выборки (по строкам объекты, по столбцам признаки), а $y$ - вектор ответов. Коэффициент $C$, вообще говоря, нужно подбирать отдельно, поскольку разные его значения приводят к разным решениям задачи оптимизации. Но так как это уже никакого отношения не имеет к линейной алгебре, то в этой задаче мы положим $\\mathbf{C = 1}$\n",
    "\n",
    "Когда мы решили задачу оптимизации (нашли $w$), мы принимаем решение о том, к какому классу относится объект по правилу $y(x) = sign(x^Tw)$. В данной части вам необходимо применить методы линейной алгебры для решения этой задачи. \n",
    "\n",
    "План у нас такой:\n",
    "- Вычислить градиент функции $L$, эффективно запрограммировать и проверить себя\n",
    "- Вычислить гессиан функции $L$,  эффективно запрограммировать и проверить себя\n",
    "- Воспользоваться методом второго порядка для оптимизации \n",
    "- Внутри метода оптимизации вместо обращения матрицы, решать систему уравнений с помощью итерационного метода\n",
    "- Исследовать эффективность различных методов решения системы уравнений на реальных данных"
   ]
  },
  {
   "cell_type": "code",
   "execution_count": 71,
   "metadata": {
    "collapsed": false
   },
   "outputs": [],
   "source": [
    "import numpy as np\n",
    "import scipy.linalg as sla\n",
    "import scipy.sparse as sps\n",
    "import scipy.sparse.linalg as spla\n",
    "from scipy import special\n",
    "import matplotlib.pyplot as plt\n",
    "from pylab import rcParams\n",
    "rcParams['figure.figsize'] = 20, 20\n",
    "%matplotlib inline"
   ]
  },
  {
   "cell_type": "markdown",
   "metadata": {},
   "source": [
    "Для тестирования правильности вычисления сгенерируем аргументы небольшого размера"
   ]
  },
  {
   "cell_type": "code",
   "execution_count": 2,
   "metadata": {
    "collapsed": true
   },
   "outputs": [],
   "source": [
    "w, X, y = np.random.random(10), np.random.random((11, 10)), 2*(np.random.randint(0, 2, 11)-0.5)"
   ]
  },
  {
   "cell_type": "markdown",
   "metadata": {},
   "source": [
    "**Задача 6.0 (0,5 балла)**\n",
    "\n",
    "Запрограммируйте вычисление функции L, используйте только матричные операции (внутри не должно быть циклов).\n",
    "\n",
    "**Замечание**: Нигде в промежуточных вычислениях не стоит вычислять значение $exp(−y_ix^Tw)$, иначе может произойти переполнение. Вместо этого следует напрямую вычислять необходимые величины с помощью специализированных для этого функций: `np.logaddexp` для `ln(1 + exp(·))` и `sp.special.expit` для `1/(1 + exp(-(·)))`."
   ]
  },
  {
   "cell_type": "code",
   "execution_count": 4,
   "metadata": {
    "collapsed": false
   },
   "outputs": [],
   "source": [
    "def oneaddexp(x):\n",
    "        return np.logaddexp(0, x)\n",
    "vector_logaddexp = np.vectorize(oneaddexp)\n",
    "\n",
    "def logistic(w, X, y):\n",
    "    '''\n",
    "        logistic(w, X, y) вычисляет функцию качества лог регрессии L(w, X, y)\n",
    "        \n",
    "        w: np.array размера (M,)\n",
    "        X: np.array размера (N, M)\n",
    "        y: np.array размера (M,)\n",
    "        \n",
    "        funcw: np.float \n",
    "    '''\n",
    "    dot = np.squeeze(np.asarray(X.dot(w.T)))\n",
    "    funcw = vector_logaddexp(-y * dot)\n",
    "    return funcw.sum() + 0.5 * sla.norm(w) ** 2"
   ]
  },
  {
   "cell_type": "code",
   "execution_count": 5,
   "metadata": {
    "collapsed": false
   },
   "outputs": [
    {
     "data": {
      "text/plain": [
       "21.310141356234976"
      ]
     },
     "execution_count": 5,
     "metadata": {},
     "output_type": "execute_result"
    }
   ],
   "source": [
    "logistic(w, X, y)"
   ]
  },
  {
   "cell_type": "markdown",
   "metadata": {},
   "source": [
    "$$ L(w, X, y) = \\sum_{i = 0}^{N} log (1 + exp(-y_ix_i^Tw)) + \\frac{C}{2} ||w||^2 \\longrightarrow \\min_w$$\n",
    "\n",
    "$$X \\in R^{N \\times M}, x \\in R^{M}, w \\in R^{M}, y \\in \\{-1, 1\\}^N$$"
   ]
  },
  {
   "cell_type": "markdown",
   "metadata": {},
   "source": [
    "**Задача 6.1 (1 балл)**\n",
    "\n",
    "Найдите градиент функции $\\nabla_w L(w, X, y)$, запишите в терминах матричных операций"
   ]
  },
  {
   "cell_type": "markdown",
   "metadata": {},
   "source": [
    "Продифференцируем $L(w, X, y)$ по $w_j$. Производная $||w||^2$ очевидно равна $2w_j$. \n",
    "\n",
    "$$\\log{(1 + exp(-y_i \\cdot x_i^{T} \\cdot w)})_{w_j}^{'} = \\frac{1}{1 + exp(-y_i \\cdot x_i^{T} \\cdot w)} \\cdot exp(-y_i \\cdot x_i^{T} \\cdot w) \\cdot -y_i \\cdot x_{ij} = \\frac{-y_i \\cdot x_{ij}}{1 + exp(y_i \\cdot x_i^{T} \\cdot w)}$$\n",
    "\n",
    "Следовательно: $$\\frac{\\partial L(w, X, y)}{\\partial w_j} = \\sum_{i=1}^{N} \\frac{-y_i \\cdot x_{ij}}{1 + exp(y_i \\cdot x_i^{T} \\cdot w)} + w_j$$\n",
    "\n",
    "$$ \\frac{\\partial L(w, X, y)}{\\partial w} = X \\left( \\frac{-y_1}{1 + exp(y_1 \\cdot x_1^{T} \\cdot w)}, \\cdots,\n",
    "\\frac{-y_N}{1 + exp(y_N \\cdot x_N^{T} \\cdot w)} \\right)^{T} + w$$"
   ]
  },
  {
   "cell_type": "markdown",
   "metadata": {},
   "source": [
    "Эффективно запрограммируйте вычисление градиента (опять же, только матричные операции!)\n",
    "\n",
    "Обратите внимание на то, что для разреженных матриц понадобится написать немного другой код."
   ]
  },
  {
   "cell_type": "code",
   "execution_count": 11,
   "metadata": {
    "collapsed": true
   },
   "outputs": [],
   "source": [
    "import scipy\n",
    "\n",
    "def expbyexp(x):\n",
    "    return scipy.special.expit(x)\n",
    "vector_expbyexp = np.vectorize(expbyexp)\n",
    "\n",
    "def logistic_grad(w, X, y):\n",
    "    '''\n",
    "        logistic_grad(w, X, y) вычисляет градиент функции качества лог регрессии dL(w, X, y)/dw\n",
    "        \n",
    "        w: np.array размера (M,)\n",
    "        X: np.array размера (N, M)\n",
    "        y: np.array размера (M,)\n",
    "        \n",
    "        gradw: np.array размера (M,)\n",
    "    '''\n",
    "    if sps.issparse(X):\n",
    "        dot = np.squeeze(np.asarray(X.dot(w.T)))\n",
    "        funcw = vector_expbyexp(-y * dot)\n",
    "        gradw = np.squeeze(np.asarray(X.T.dot((-y * funcw).T))) + w\n",
    "    else:\n",
    "        dot = np.squeeze(np.asarray(np.dot(X, w.T)))\n",
    "        funcw = vector_expbyexp(-y * dot)\n",
    "        gradw = np.squeeze(np.asarray(np.dot(X.T, (-y * funcw).T))) + w\n",
    "    return gradw"
   ]
  },
  {
   "cell_type": "code",
   "execution_count": 12,
   "metadata": {
    "collapsed": false
   },
   "outputs": [],
   "source": [
    "assert(logistic_grad(w, X, y).shape == w.shape)"
   ]
  },
  {
   "cell_type": "code",
   "execution_count": 13,
   "metadata": {
    "collapsed": false
   },
   "outputs": [
    {
     "data": {
      "text/plain": [
       "array([ 1.99185972,  2.99796493])"
      ]
     },
     "execution_count": 13,
     "metadata": {},
     "output_type": "execute_result"
    }
   ],
   "source": [
    "w = np.array([2, 3])\n",
    "X = sps.csr_matrix([[4, 1], [3, 1], [4, 2]])\n",
    "y = np.array([0.5, 21, 3])\n",
    "logistic_grad(w, X, y)"
   ]
  },
  {
   "cell_type": "markdown",
   "metadata": {},
   "source": [
    "Очень часто при подсчёте градиента допускаются ошибки, проверьте правильность реализации подсчёта градиента с помощью конечных разностей. \n",
    "\n",
    "$$[\\nabla f(x)]_i \\approx \\frac{f(x + \\epsilon \\cdot e_i) - f(x)}{\\epsilon}~~~~$$\n",
    "\n",
    "где $e_i = (0, ... , 0, 1, 0, ..., 0)$ - i-й базисный орт, $\\epsilon \\approx 10^{-8}$\n",
    "\n",
    "Ваша функция должна корректно работать хотя бы с обыкновенными (не разреженными матрицами)"
   ]
  },
  {
   "cell_type": "code",
   "execution_count": 17,
   "metadata": {
    "collapsed": false
   },
   "outputs": [],
   "source": [
    "def max_error(a, b): \n",
    "    return np.max(np.abs(a-b))\n",
    "\n",
    "def grad_finite_diff(func, w, eps=1e-8):\n",
    "    '''\n",
    "        w: np.array размера (M,)\n",
    "        func: скалярная функция от векторного аргумента w, func(w) =  число\n",
    "        eps: np.float константа для проверки градиента\n",
    "        \n",
    "        dnum: np.array размера (M,), численно посчитанный градиент\n",
    "    '''\n",
    "    w, fval, dnum = w.astype(np.float64), func(w), np.zeros_like(w)\n",
    "\n",
    "    for i in range(w.size):\n",
    "        ei = np.zeros(len(w))\n",
    "        ei[i] = 1\n",
    "        dnum[i] = (func(w + eps * ei) - func(w)) / eps\n",
    "        # dnum[i] = # Вычислите численный градиент d func/dw_i с помощью конечных разностей\n",
    "\n",
    "    return dnum"
   ]
  },
  {
   "cell_type": "code",
   "execution_count": 19,
   "metadata": {
    "collapsed": false
   },
   "outputs": [
    {
     "name": "stdout",
     "output_type": "stream",
     "text": [
      "err =  2.49193360716e-08 ok\n"
     ]
    }
   ],
   "source": [
    "w, X, y = np.random.random(10).astype(np.float128), np.random.random((11, 10)).astype(np.float128), 2*(np.random.randint(0, 2, 11)-0.5).astype(np.float128)\n",
    "\n",
    "mat_grad = logistic_grad(w, X, y)\n",
    "num_grad = grad_finite_diff(lambda w: logistic(w, X, y), w)\n",
    "\n",
    "err = max_error(mat_grad, num_grad)\n",
    "print('err = ', err, 'ok' if err < 1e-6 else 'ошибка очень большая =(')"
   ]
  },
  {
   "cell_type": "markdown",
   "metadata": {},
   "source": [
    "**Задача 6.2 (1 балл)**\n",
    "\n",
    "Для некоторых задач оптимизации очень удобно использовать гессиан. \n",
    "\n",
    "Вычислите гессиан для функции L, запишите ответ в терминах матричных операций. \n",
    "\n",
    "**Упражнение**: Можно ли что-то сказать про знакоопределенность этой матрицы?"
   ]
  },
  {
   "cell_type": "markdown",
   "metadata": {},
   "source": [
    "Из прошлой задачи мы знаем, что \n",
    "$$\\frac{\\partial L(w, X, y)}{\\partial w_j} = \n",
    "\\sum_{i=1}^{N}{\\frac{-y_i \\cdot x_{ij}}{1 + \\exp(y_i \\cdot x_i^{T} \\cdot w)}} + w_j$$.\n",
    "\n",
    "Найдем гессиан $L$, продифференцировав каждый член этой суммы по отдельности по $\\partial w_k$. \n",
    "\n",
    "$$\\left( \\frac{1}{1 + e^{y_i \\cdot x_i^{T} \\cdot w}} \\right)_{w_k}^{'} = \n",
    "\\frac{-y_i \\cdot x_{ik} \\cdot e^{y_i \\cdot x_{i}^{T}\\cdot w}}\n",
    "{\\left( 1 +  e^{y_i \\cdot x_{i}^{T}\\cdot w} \\right) ^ {2}}\n",
    "$$\n",
    "\n",
    "Отсюда получаем: \n",
    "$$\\frac{\\partial L(w, X, y)}{\\partial w_j \\partial w_k} = \n",
    "\\sum_{i = 1}^{N}\n",
    "{\\frac{y_i^{2} \\cdot x_{ik} \\cdot x_{ij} \\cdot e^{y_i \\cdot x_{i}^{T}\\cdot w}}\n",
    "{\\left( 1 +  e^{y_i \\cdot x_{i}^{T}\\cdot w} \\right) ^ {2}}}\n",
    "+ \\delta_{jk} =  \n",
    "\\sum_{i = 1}^{N}\n",
    "{\\frac{1 \\cdot x_{ik} \\cdot x_{ij} \\cdot e^{y_i \\cdot x_{i}^{T}\\cdot w}}\n",
    "{\\left( 1 +  e^{y_i \\cdot x_{i}^{T}\\cdot w} \\right) ^ {2}}}\n",
    "+ \\delta_{jk}$$"
   ]
  },
  {
   "cell_type": "markdown",
   "metadata": {
    "collapsed": true
   },
   "source": [
    "Эффективно запрограммируйте вычисление гессиана. Не забудьте написать отдельную рутину для разреженных матриц."
   ]
  },
  {
   "cell_type": "code",
   "execution_count": 22,
   "metadata": {
    "collapsed": false
   },
   "outputs": [],
   "source": [
    "def diff_exp(x):\n",
    "        return scipy.special.expit(x) * scipy.special.expit(-x)\n",
    "vector_diff_exp = np.vectorize(diff_exp)\n",
    "\n",
    "def logistic_hess(w, X, y):\n",
    "    '''\n",
    "        logistic_hess(w, X, y) вычисляет гессиан функции качества лог регрессии dL(w, X, y)/dw\n",
    "        \n",
    "        w: np.array размера (M,)\n",
    "        X: np.array размера (N, M)\n",
    "        y: np.array размера (M,)\n",
    "        \n",
    "        hessw: np.array размера (M, M)\n",
    "    '''\n",
    "    if sps.issparse(X):\n",
    "        N = X.shape[0]\n",
    "        M = X.shape[1]\n",
    "        X_copy = X.T.tocsr()\n",
    "        dotXW = X.dot(w.T)\n",
    "        vector_exp = sps.csr_matrix(vector_diff_exp(y * dotXW))\n",
    "        vector_exp = sps.csr_matrix(np.ones(M).reshape(M, 1)).dot(vector_exp)\n",
    "        XTmult = X_copy.multiply(vector_exp)\n",
    "        hessw = XTmult.dot(X) + np.identity(w.size)\n",
    "    else:\n",
    "        dotXW = np.squeeze(np.asarray(X.dot(w.T)))\n",
    "        vector_exp = vector_diff_exp(y * dotXW)\n",
    "        hessw = np.dot(np.asarray(X).T * vector_exp, X) + np.identity(w.size)\n",
    "    return hessw"
   ]
  },
  {
   "cell_type": "code",
   "execution_count": 23,
   "metadata": {
    "collapsed": false
   },
   "outputs": [],
   "source": [
    "assert(logistic_hess(w, X, y).shape == (w.shape[0], w.shape[0]))"
   ]
  },
  {
   "cell_type": "markdown",
   "metadata": {},
   "source": [
    "Теперь проверим правильность реализации подсчёта гессиана"
   ]
  },
  {
   "cell_type": "markdown",
   "metadata": {},
   "source": [
    "Для гессиана проверка выглядит похожим образом\n",
    "\n",
    "$$[\\nabla^2 f(x)]_{ij} \\approx \\frac{f(x + \\epsilon \\cdot e_i + \\epsilon \\cdot e_j) -f(x + \\epsilon \\cdot e_i) - f(x + \\epsilon \\cdot e_j)+ f(x)}{\\epsilon^2}~~~~~~~~~~~~~~~~~~~~~$$\n",
    "\n",
    "где $e_i = (0, ... , 0, 1, 0, ..., 0)$ - i-й базисный орт, $\\epsilon \\approx 10^{-5}$"
   ]
  },
  {
   "cell_type": "code",
   "execution_count": 25,
   "metadata": {
    "collapsed": false
   },
   "outputs": [],
   "source": [
    "def hess_finite_diff(func, w, eps=1e-5):\n",
    "    '''\n",
    "        w: np.array размера (M,)\n",
    "        func: скалярная функция от векторного аргумента w, func(w) =  число\n",
    "        eps: np.float константа для проверки градиента\n",
    "        \n",
    "        dnum: np.array размера (M,), численно посчитанный градиент\n",
    "    '''\n",
    "    w, fval, dnum = w.astype(np.float64), func(w).astype(np.float64), np.zeros((w.size, w.size), dtype=np.float64)\n",
    "    E = eps * np.identity(w.size).astype(np.float64)\n",
    "    for i in range(w.size):\n",
    "        for j in range(w.size):\n",
    "            dnum[i][j] = (func(w + E[i] + E[j]) + func(w) - func(w + E[i]) - func(w + E[j])) / (eps * eps)\n",
    "    return dnum"
   ]
  },
  {
   "cell_type": "code",
   "execution_count": 26,
   "metadata": {
    "collapsed": false
   },
   "outputs": [
    {
     "name": "stdout",
     "output_type": "stream",
     "text": [
      "err =  5.99059356447e-06\n",
      "ok\n"
     ]
    }
   ],
   "source": [
    "mat_grad = logistic_hess(w, X, y)\n",
    "num_grad = hess_finite_diff(lambda w: logistic(w, X, y), w)\n",
    "\n",
    "err = max_error(mat_grad, num_grad)\n",
    "\n",
    "print('err = ', err)\n",
    "print('ok' if max_error(mat_grad, num_grad) < 1e-5 else 'ошибка оч большая =(') "
   ]
  },
  {
   "cell_type": "markdown",
   "metadata": {},
   "source": [
    "**Задача 6.3 (3+ баллов)**\n",
    "\n",
    "Так как наша задача оптимизации оказывается выпуклой (см. упражнение про знакоопределённость Гессиана), её можно эффективно решать методом второго порядка, например, методом Ньютона. Напомним, что в общем виде метод Ньютона для решения уравнения (системы уравнений) $H(z) = 0$ имеет вид\n",
    "\n",
    "$$z_{k+1} = w_k - \\mathbf{\\alpha_k}\\left(\\nabla H(z_k)\\right)^{-1}H(z_k)$$\n",
    "\n",
    "Множитель $a_k$ не вполне каноничен, но его введение может ускорять сходимость.\n",
    "\n",
    "Решение задачи оптимизации $f(w) \\rightarrow \\min\\limits_w$ сводится к нахождению нулей градиента $\\nabla f(w) = 0$. Получаем следующий итеративный процесс:\n",
    "\n",
    "$$w_{k + 1} = w_k - \\alpha_k\\left(\\nabla^2 f(x_k)\\right)^{-1} \\cdot \\nabla f(x_k) =: w_k - \\alpha_k d_k$$\n",
    "\n",
    "Иными словами, основная идея метода Ньютона -- на шаге $k$ выбрать направление спуска $d_k$ с помощью градиента и гессиана, определить длину шага $\\alpha_k$ по направлению $d_k$, и повторять сей процесс до сходимости (в выпуклой задаче можно считать, что это 20 итераций).\n",
    "\n",
    "В методе Ньютона каждое следующее направление оптимизации выбирается как \n",
    "\n",
    "$$d_{k+1} = -(\\nabla^2 f(x_k))^{-1} \\cdot \\nabla f(x_k)$$\n",
    "\n",
    "но, вот беда, операция поиска обратной матрицы очень дорогая и не устойчивая, поэтому будем искать $d_{k+1}$ как решение системы уравнений\n",
    "\n",
    "$$\\nabla^2 f(x_k) d_{k+1} = -\\nabla f(x_k)$$"
   ]
  },
  {
   "cell_type": "markdown",
   "metadata": {},
   "source": [
    "Первым делом вам нужно будет реализовать метод Ньютона."
   ]
  },
  {
   "cell_type": "markdown",
   "metadata": {},
   "source": [
    "*Замечание*: Если вы хорошо реализовали вычисление градиента и гессиана, то в функции `newton` вам не понадобилось отдельно обрабатывать разреженные матрицы."
   ]
  },
  {
   "cell_type": "code",
   "execution_count": 46,
   "metadata": {
    "collapsed": false
   },
   "outputs": [],
   "source": [
    "from scipy.optimize.linesearch import line_search_armijo\n",
    "import time\n",
    "\n",
    "def newton(func, grad, hess, w0, solver, max_iter=20):\n",
    "    '''\n",
    "        func: скалярная функция от вектора размера shape(w0)\n",
    "        grad: функция вычисляющая градиент функции func\n",
    "        hess: функция вычисляющая гессиан  функции func\n",
    "        \n",
    "        w0: вектор, первая точка в процессе оптимизации \n",
    "        solver: функция от двух аргументов A, b находит решение системы Ax=b\n",
    "        max_iter: количество итераций метода\n",
    "    '''\n",
    "    \n",
    "    w, fvals, ngrads = w0.copy().astype(np.float128), [], []\n",
    "\n",
    "    time_grad_hess = 0.\n",
    "    time_solver = 0.\n",
    "    \n",
    "    for _ in range(max_iter):\n",
    "        start_time = time.time()\n",
    "        fvalx, gradx, hessx = func(w), grad(w), hess(w)\n",
    "        end_time = time.time()\n",
    "        time_grad_hess += end_time - start_time\n",
    "        start_time = end_time\n",
    "        d = solver(hessx, -gradx)\n",
    "        time_solver += time.time() - start_time\n",
    "        alpha = line_search_armijo(func, w, d, gradx, fvalx)[0]\n",
    "        w += alpha * d\n",
    "        fvals.append(fvalx)\n",
    "        ngrads.append(np.linalg.norm(gradx))\n",
    "\n",
    "    print('time for computing hessian and gradient: {}'.format(time_grad_hess))\n",
    "    print('time for solving linear system: {}'.format(time_solver))\n",
    "        \n",
    "    return w, fvals, ngrads"
   ]
  },
  {
   "cell_type": "code",
   "execution_count": 47,
   "metadata": {
    "collapsed": false
   },
   "outputs": [
    {
     "name": "stdout",
     "output_type": "stream",
     "text": [
      "time for computing hessian and gradient: 0.012771129608154297\n",
      "time for solving linear system: 0.005862236022949219\n",
      "CPU times: user 24 ms, sys: 0 ns, total: 24 ms\n",
      "Wall time: 24.8 ms\n"
     ]
    }
   ],
   "source": [
    "# Пример запуска\n",
    "\n",
    "func = lambda w: logistic(w, X, y)\n",
    "grad = lambda w: logistic_grad(w, X, y)\n",
    "hess = lambda w: logistic_hess(w, X, y)\n",
    "gauss_  = lambda A, b: spla.spsolve(A, b) if sps.issparse(A) else sla.solve(A, b)\n",
    "lgmres_  = lambda A, b: spla.lgmres(A, b, tol=1e-2)[0]\n",
    "cg_  = lambda A, b: spla.cg(A, b, tol=1e-2)[0]\n",
    "\n",
    "%time w_opt, fvals, ngrads = newton(func, grad, hess, w, cg_) "
   ]
  },
  {
   "cell_type": "markdown",
   "metadata": {},
   "source": [
    "В этом задании вам необходимо в зависимости от метода решения системы уравнений (гаусс, CG, GMRES) исследовать:\n",
    "- зависимость времени работы метода оптимизации от выбора метода решения системы;\n",
    "- скорость сходимости метода оптимизации в зависимости от точности решения системы уравнений (параметр `tol`);\n",
    "- какую часть времени метод тратит на решение системы уравнений и какую на вычисление гессиана и градиента.\n",
    "\n",
    "Эксперименты нужно провести на нескольких наборах данных. Рассмотрите следующие три ситуации: \n",
    "- малое число признаков d < 100\n",
    "- среднее число признаков d ~ 500 \n",
    "- большое число признаков d ~ 1000\n",
    "\n",
    "Мы будем поощрять любые дополнительные исследования, например, если вы попытаетесь проверить статистическую значимость результатов экспериментов: ведь если какой-нибудь метод показал себя лучше в одном-единственном эксперименте, то это ещё ничего не значит.\n",
    "\n",
    "**Рекомендация**: можете рассмотреть три набора данных, которые можно скачать с сайта [LIBSVM1](https://www.csie.ntu.edu.tw/~cjlin/libsvmtools/datasets/binary.html): **a9a**, **w8a** (много объектов, сравнительно немного признаков) и **colon-cancer** (в нём достаточно мало объектов, но зато гораздо больше признаков).\n",
    "\n",
    "Любой набор данных с сайта LIBSVM представляет из себя текстовый файл в формате svmlight. Чтобы считать такой текстовый файл, можно использовать функцию [load_svmlight_file](http://scikit-learn.org/stable/modules/generated/sklearn.datasets.load_svmlight_file.html) из модуля sklearn.datasets. Эта функция всегда возвращает матрицу X типа sp.sparse.csr_matrix (разреженная марица). В датасете **colon-cancer** матрица X не будет разреженной, поэтому сразу же после вызова функции load_svmlight_file следует привести X к типу np.ndarray. Это можно сделать с помощью команды X = X.toarray()."
   ]
  },
  {
   "cell_type": "markdown",
   "metadata": {},
   "source": [
    "Начнем с датасета colon-cancer, в котором большое число признаков."
   ]
  },
  {
   "cell_type": "markdown",
   "metadata": {},
   "source": [
    "## Colon - cancer"
   ]
  },
  {
   "cell_type": "code",
   "execution_count": 55,
   "metadata": {
    "collapsed": false
   },
   "outputs": [],
   "source": [
    "import sklearn\n",
    "from sklearn import datasets\n",
    "X_cancer = sklearn.datasets.load_svmlight_file('./colon-cancer')\n",
    "Y_cancer = X_cancer[1].astype(np.float128)\n",
    "X_cancer = X_cancer[0].toarray().astype(np.float128)"
   ]
  },
  {
   "cell_type": "code",
   "execution_count": 56,
   "metadata": {
    "collapsed": false
   },
   "outputs": [
    {
     "data": {
      "text/plain": [
       "array([[ 2.08075,  1.09907,  0.927763, ..., -0.148522,  1.59153, -0.217481],\n",
       "       [ 1.10946,  0.786453,  0.44556, ...,  1.09401, -0.492141, -1.55408],\n",
       "       [-0.67653,  1.6931,  1.55925, ..., -0.086285, -0.390878, -0.089465],\n",
       "       ..., \n",
       "       [ 0.200706, -0.668545, -0.935933, ...,  0.605018,  1.34491, -2.48507],\n",
       "       [ 0.829749,  0.299447,  0.130738, ...,  0.98563, -0.210661,\n",
       "        -0.391249],\n",
       "       [ 0.566684, -0.53366, -0.761951, ..., -0.45384,  0.194535,  0.06415]], dtype=float128)"
      ]
     },
     "execution_count": 56,
     "metadata": {},
     "output_type": "execute_result"
    }
   ],
   "source": [
    "X_cancer"
   ]
  },
  {
   "cell_type": "code",
   "execution_count": 62,
   "metadata": {
    "collapsed": false
   },
   "outputs": [
    {
     "name": "stdout",
     "output_type": "stream",
     "text": [
      "time for computing hessian and gradient: 23.479949235916138\n",
      "time for solving linear system: 2.00423264503479\n",
      "CPU times: user 17.9 s, sys: 7.54 s, total: 25.5 s\n",
      "Wall time: 25.5 s\n",
      "time for computing hessian and gradient: 24.327045679092407\n",
      "time for solving linear system: 1.938375473022461\n",
      "CPU times: user 18.5 s, sys: 7.74 s, total: 26.3 s\n",
      "Wall time: 26.3 s\n",
      "time for computing hessian and gradient: 23.168044090270996\n",
      "time for solving linear system: 5.356736183166504\n",
      "CPU times: user 31.9 s, sys: 12.9 s, total: 44.8 s\n",
      "Wall time: 28.6 s\n",
      "[ 0.011524707 -0.0052830873 -0.016019053 ..., -0.039973271 -0.027927662\n",
      " -0.03328193]\n",
      "5.62406587153e-18\n"
     ]
    }
   ],
   "source": [
    "func = lambda w: logistic(w, X_cancer, Y_cancer)\n",
    "grad = lambda w: logistic_grad(w, X_cancer, Y_cancer)\n",
    "hess = lambda w: logistic_hess(w, X_cancer, Y_cancer)\n",
    "gauss_  = lambda A, b: spla.spsolve(A, b) if sps.issparse(A) else sla.solve(A, b)\n",
    "lgmres_  = lambda A, b: spla.lgmres(A, b)[0]\n",
    "cg_  = lambda A, b: spla.cg(A, b)[0]\n",
    "\n",
    "w = np.zeros(X_cancer.shape[1])\n",
    "%time w_opt, fvals, ngrads = newton(func, grad, hess, w, lgmres_)\n",
    "%time w_opt, fvals, ngrads = newton(func, grad, hess, w, cg_)\n",
    "%time w_opt, fvals, ngrads = newton(func, grad, hess, w, gauss_)\n",
    "print(w_opt)\n",
    "print(sla.norm(grad(w_opt)))"
   ]
  },
  {
   "cell_type": "markdown",
   "metadata": {},
   "source": [
    "## **w8a**"
   ]
  },
  {
   "cell_type": "code",
   "execution_count": 74,
   "metadata": {
    "collapsed": false
   },
   "outputs": [
    {
     "name": "stdout",
     "output_type": "stream",
     "text": [
      "<class 'scipy.sparse.csr.csr_matrix'>\n",
      "(14951, 300)\n"
     ]
    },
    {
     "data": {
      "text/plain": [
       "<matplotlib.lines.Line2D at 0x7f9333e1b550>"
      ]
     },
     "execution_count": 74,
     "metadata": {},
     "output_type": "execute_result"
    },
    {
     "data": {
      "image/png": "[encoded data removed]",
      "text/plain": [
       "<matplotlib.figure.Figure at 0x7f9333e52240>"
      ]
     },
     "metadata": {},
     "output_type": "display_data"
    }
   ],
   "source": [
    "import sklearn\n",
    "from sklearn import datasets\n",
    "W8A = sklearn.datasets.load_svmlight_file('./w8a.t')\n",
    "X_w8a = W8A[0]\n",
    "Y_w8a = W8A[1]\n",
    "print(type(X_w8a))\n",
    "print(X_w8a.shape)\n",
    "D = X_w8a.shape[0]\n",
    "plt.spy(X_w8a[:500,:], marker='.', markersize=0.6)"
   ]
  },
  {
   "cell_type": "code",
   "execution_count": 77,
   "metadata": {
    "collapsed": false
   },
   "outputs": [
    {
     "name": "stdout",
     "output_type": "stream",
     "text": [
      "time for computing hessian and gradient: 7.137141942977905\n",
      "time for solving linear system: 0.18231606483459473\n",
      "CPU times: user 7.72 s, sys: 592 ms, total: 8.31 s\n",
      "Wall time: 8.36 s\n",
      "time for computing hessian and gradient: 7.565178155899048\n",
      "time for solving linear system: 0.13944530487060547\n",
      "CPU times: user 8.03 s, sys: 764 ms, total: 8.79 s\n",
      "Wall time: 8.8 s\n",
      "time for computing hessian and gradient: 6.28889274597168\n",
      "time for solving linear system: 0.36693906784057617\n",
      "CPU times: user 9.06 s, sys: 5.93 s, total: 15 s\n",
      "Wall time: 8.88 s\n",
      "[-1.0866248 -1.326695 -1.7597709 -1.4587039 -2.1131473 -1.0553078\n",
      " -0.83176034 -0.70889833 -0.78034229 -1.6803541 -1.6762302 -0.50921699\n",
      " -0.37939587 -0.80800273 -0.47928857 -1.993703 -0.35319075 -0.89155304\n",
      " -1.6696523 -1.274047 -2.383869 -0.83727305 -1.5883375 -0.78790016\n",
      " -0.80714848 -1.0024614 -1.1191269 -1.3233281 -0.82053173 -1.4525305\n",
      " -0.86570238 -0.59766025 -1.1089157 -1.2915864 -1.5758088  0.22364084\n",
      " -1.1868939 -0.95448908  0.10658713  0.75630396  0.080075751  1.16888\n",
      "  1.16888 -1.1954144 -0.44024128  0.13311056 -0.77516478  1.2999836\n",
      "  0.95218542  0.27502053 -0.52258433 -0.10559466  1.2958601  0.0076862475\n",
      " -0.93952265  2.4121303 -0.68694481  3.0524754  0.27455804  0.37926677\n",
      "  3.1117589 -1.0109684  1.8554816  2.0508307  3.0486972  0.62413744\n",
      "  2.4063672 -0.14713397  0.075447562 -1.1067083 -1.3868125  0.17516755\n",
      " -0.11102009  2.2984859 -0.62088379  1.480692  0.077607754 -0.5436233\n",
      " -1.3828078 -1.5496578 -1.1488923  0.15656883 -1.363556 -0.92807587\n",
      " -0.87161864  0.61503278 -1.4892327 -0.86480496 -1.3558168 -1.7742804\n",
      "  0.93835181  3.7366733  0.32520937 -0.59839409  1.775854  1.249515\n",
      " -0.14054633  0.69580694  0.33350504  0.71158938 -1.7434758 -0.65871137\n",
      " -0.0086604135 -1.7970149  0.31809623 -1.1151572 -0.5143908 -0.1798151\n",
      " -0.4313361 -0.10599901 -0.22870397  2.5244131  1.0580613 -1.0262148\n",
      " -1.1279766 -0.58606889 -1.2294806 -1.1152666 -1.867557  0.13439506\n",
      "  0.13439506  0.13439506  0.13439506  0.13439506  0.094529229  0.094529229\n",
      "  0.094529229  0.094529229  0.094529229  0.094529229  0.094529229\n",
      "  0.094529229  0.094529229  0.095356378  0.095356378  0.095356378\n",
      "  0.095356378  0.095356378  0.095356378  0.095356378  0.095356378\n",
      "  0.095356378  0.13439506 -0.19128777  0.39549189 -2.3389956 -0.16917706\n",
      " -1.1107733 -1.3324333  2.4135306  0.58283956 -0.12804413  1.0925056\n",
      " -0.43585017 -0.64975734 -0.68827894 -1.3187949  0.14370168  0.9542666\n",
      " -0.096891012 -0.78309666  0.80640657  0.52548416 -1.0271052 -0.3617718\n",
      "  0.080487688  0.91872826 -1.6297755 -0.19200078 -0.037488037 -0.31678348\n",
      " -0.25463312  1.3409023  1.4935215  0.13439506  0.13439506  0.13439506\n",
      "  0.13439506  0.13439506  0.13439506  0.13439506 -0.16662614  1.0971196\n",
      "  0.12532727  1.498151  2.8379342 -0.10599901  0.15334522  0.15687839\n",
      "  0.54028305  0.93893  2.236107 -0.3649919 -0.74083487 -1.6870405\n",
      "  1.3775893 -0.11252024  0.16227238  1.6715181  0.96082138  0.67682005\n",
      "  0.67682005 -1.4047784 -1.0859059 -0.43771508 -0.2887737 -0.83655835\n",
      " -0.081868827 -1.6513075  0.13439497  0.034715826 -0.69203674  1.907321\n",
      "  0.099904635  0.201677 -0.072617955 -1.5316773 -0.89862924  2.1333304\n",
      "  2.773148 -0.29961305 -0.61819539 -0.48582581 -0.39085522  0.61792936\n",
      "  0.95906829  0.11272903 -0.63949762 -1.455302  1.5534989  0.34020648\n",
      "  0.22670092  0.68572511  0.15751349 -1.393899 -0.74949791  0.60731043\n",
      " -0.58799147 -0.72755642 -0.29092992 -0.51600003 -0.4023836  0.094348343\n",
      " -1.38702  0.82590042  1.9982507 -0.37075198 -0.27683729 -1.1240791\n",
      "  0.33937521  1.2498898 -0.84544868  2.5801843  2.5143011  1.2711548\n",
      "  1.0010837  0.81499832 -0.12624803  0.39427416 -1.1923999  0.056224075\n",
      "  0.15751658 -0.12956343 -0.012166267 -1.7483162  1.7741586  2.1783937\n",
      "  1.1051282 -0.59335207 -1.5303362 -0.49496944 -1.1798065  0.29983102\n",
      " -0.035974926 -0.97858139  0.60445053  0.30559164 -0.24644394 -0.29316181\n",
      " -1.6374939 -0.75622095 -0.27136538 -0.64495521  0.13439506  0.13439506\n",
      "  0.13439506  0.13439506  0.13439506  1.1492591  1.4812493  1.2196888\n",
      "  2.2523136 -1.0074887 -1.0703254 -0.8099195  2.3837886 -0.71898937\n",
      " -0.29902892 -0.37401139  0.21075008]\n",
      "1.17109743739e-11\n"
     ]
    }
   ],
   "source": [
    "func = lambda w: logistic(w, X_w8a, Y_w8a)\n",
    "grad = lambda w: logistic_grad(w, X_w8a, Y_w8a)\n",
    "hess = lambda w: logistic_hess(w, X_w8a, Y_w8a)\n",
    "gauss_  = lambda A, b: spla.spsolve(A, b) if sps.issparse(A) else sla.solve(A, b)\n",
    "lgmres_  = lambda A, b: spla.lgmres(A, b)[0]\n",
    "cg_  = lambda A, b: spla.cg(A, b)[0]\n",
    "\n",
    "w = np.zeros(X_w8a.shape[1])\n",
    "%time w_opt, fvals, ngrads = newton(func, grad, hess, w, lgmres_)\n",
    "%time w_opt, fvals, ngrads = newton(func, grad, hess, w, cg_)\n",
    "%time w_opt, fvals, ngrads = newton(func, grad, hess, w, gauss_)\n",
    "\n",
    "print(w_opt)\n",
    "print(sla.norm(grad(w_opt)))"
   ]
  },
  {
   "cell_type": "markdown",
   "metadata": {},
   "source": [
    "## a9a"
   ]
  },
  {
   "cell_type": "code",
   "execution_count": 73,
   "metadata": {
    "collapsed": false
   },
   "outputs": [
    {
     "name": "stdout",
     "output_type": "stream",
     "text": [
      "<class 'scipy.sparse.csr.csr_matrix'>\n",
      "(16281, 122)\n"
     ]
    },
    {
     "data": {
      "text/plain": [
       "<matplotlib.lines.Line2D at 0x7f9333eb1400>"
      ]
     },
     "execution_count": 73,
     "metadata": {},
     "output_type": "execute_result"
    },
    {
     "data": {
      "image/png": "[encoded data removed]",
      "text/plain": [
       "<matplotlib.figure.Figure at 0x7f9333f275f8>"
      ]
     },
     "metadata": {},
     "output_type": "display_data"
    }
   ],
   "source": [
    "import sklearn\n",
    "from sklearn import datasets\n",
    "A9A = sklearn.datasets.load_svmlight_file('./a9a.t')\n",
    "X_a9a = A9A[0]\n",
    "Y_a9a = A9A[1]\n",
    "print(type(X_a9a))\n",
    "print(X_a9a.shape)\n",
    "D = X_a9a.shape[0]\n",
    "plt.spy(X_a9a[:122,:], marker='.', markersize=0.6)"
   ]
  },
  {
   "cell_type": "code",
   "execution_count": 68,
   "metadata": {
    "collapsed": false
   },
   "outputs": [
    {
     "name": "stdout",
     "output_type": "stream",
     "text": [
      "time for computing hessian and gradient: 5.315335035324097\n",
      "time for solving linear system: 0.13559341430664062\n",
      "CPU times: user 6.1 s, sys: 360 ms, total: 6.46 s\n",
      "Wall time: 6.57 s\n",
      "time for computing hessian and gradient: 4.863441705703735\n",
      "time for solving linear system: 0.050415992736816406\n",
      "CPU times: user 5.69 s, sys: 188 ms, total: 5.88 s\n",
      "Wall time: 5.89 s\n",
      "time for computing hessian and gradient: 4.866555690765381\n",
      "time for solving linear system: 0.1965193748474121\n",
      "CPU times: user 7.98 s, sys: 4.95 s, total: 12.9 s\n",
      "Wall time: 7.35 s\n",
      "[-1.4411055 -0.37321919  0.1433261  0.45912854  0.42774938  0.43117819\n",
      " -0.10351919  0.59314176  0.8150107  0.28682404  0.072576681  0.34420421\n",
      " -0.004316392 -0.33965398 -0.18295947 -0.12915246 -0.079281867 -0.053072872\n",
      " -0.23857332 -0.071814719 -0.0065691384 -0.26223796  0.65820718  0.1359473\n",
      " -0.13035403 -0.35260193 -0.44256651  0.39120245  0.033557367 -0.71868721\n",
      " -0.13546494  0.37453152 -0.13937265  0.12067593 -1.283384 -0.26223796\n",
      " -0.071814719  0.0055932715  0.82772275  1.6153169 -0.75515443 -0.92015781\n",
      " -0.72462275 -0.46952111 -0.19888824  0.66890679  0.57231292  0.17136038\n",
      " -0.68636343  0.43294265  0.87868997  0.75617345 -0.46719645 -0.24372424\n",
      "  0.16213943 -0.50097731  0.11741984 -0.27725884  0.56395185  0.95994618\n",
      "  0.60546803 -0.33113022 -0.22680724  0.18201273 -0.79656194 -0.21710203\n",
      " -0.17444644  0.015281841 -0.45744229  0.41477891 -0.58229268 -0.59209208\n",
      " -0.19202858 -1.2517422  0.4676215 -0.94076983  0.15664917 -1.0594486\n",
      " -0.31758078 -0.026217927  0.23153834  0.38758826  0.11500958 -0.081828782\n",
      "  0.70999291  0.03455895  0.78235675 -0.57916029  0.14201273  0.18678072\n",
      " -0.69717638  0.78124718 -0.89710238 -0.34616783 -0.16242493 -0.12310989\n",
      "  0.077030743  0.042415625  0.0017349215 -0.10147592  0.36400888\n",
      " -0.70914494 -1.0103052  0.93418558  1.2632331  0.6709648 -0.54649017\n",
      " -0.93634792 -0.15634479 -0.2478296  0.20533709 -1.0842718  0.52549499\n",
      " -0.60928133 -0.047751155 -1.0386212 -0.73961946  0.30748727 -0.2722491\n",
      " -1.1304267 -0.75387612 -0.66989565]\n",
      "3.31810458665e-16\n"
     ]
    }
   ],
   "source": [
    "func = lambda w: logistic(w, X_a9a, Y_a9a)\n",
    "grad = lambda w: logistic_grad(w, X_a9a, Y_a9a)\n",
    "hess = lambda w: logistic_hess(w, X_a9a, Y_a9a)\n",
    "gauss_  = lambda A, b: spla.spsolve(A, b) if sps.issparse(A) else sla.solve(A, b)\n",
    "lgmres_  = lambda A, b: spla.lgmres(A, b)[0]\n",
    "cg_  = lambda A, b: spla.cg(A, b)[0]\n",
    "\n",
    "w = np.zeros(X_a9a.shape[1])\n",
    "%time w_opt, fvals, ngrads = newton(func, grad, hess, w, lgmres_)\n",
    "%time w_opt, fvals, ngrads = newton(func, grad, hess, w, cg_)\n",
    "%time w_opt, fvals, ngrads = newton(func, grad, hess, w, gauss_)\n",
    "print(w_opt)\n",
    "print(sla.norm(grad(w_opt)))"
   ]
  },
  {
   "cell_type": "markdown",
   "metadata": {},
   "source": [
    "Как и ожидалось основное время тратится на расчет гессиана и градиента. Системы линейных уравнений лучше решать либо методом lgmres, либо cg. Для lgmres правда нужно дополнительно подбирать параметр tol."
   ]
  },
  {
   "cell_type": "markdown",
   "metadata": {},
   "source": [
    "**Задача 6.4 (0 балов, весь код написан за Вас, но очень красивые картинки)** \n",
    "\n",
    "Давайте визуализируем наш метод, а то хочется глазами посмотреть. Просто запустите код:"
   ]
  },
  {
   "cell_type": "code",
   "execution_count": 83,
   "metadata": {
    "collapsed": false
   },
   "outputs": [],
   "source": [
    "from scipy import optimize\n",
    "from scipy.sparse.linalg import cg\n",
    "\n",
    "def expand(X):\n",
    "    X_ = np.zeros((X.shape[0], 6))\n",
    "    X_[:,0:2] = X\n",
    "    X_[:,2:4] = X**2\n",
    "    X_[:,4] = X[:,0] * X[:,1]\n",
    "    X_[:,5] = 1;\n",
    "    return X_\n",
    "\n",
    "def visualize(X, y, w, loss, n_iter, h=0.01):\n",
    "    x_min, x_max = X[:, 0].min() - 1, X[:, 0].max() + 1\n",
    "    y_min, y_max = X[:, 1].min() - 1, X[:, 1].max() + 1\n",
    "    xx, yy = np.meshgrid(np.arange(x_min, x_max, h), np.arange(y_min, y_max, h))\n",
    "    \n",
    "    plt.clf()\n",
    "    Z = classify(expand(np.c_[xx.ravel(), yy.ravel()]), w)\n",
    "    Z = Z.reshape(xx.shape)\n",
    "    plt.subplot(1,2,1)\n",
    "    plt.contourf(xx, yy, Z, cmap='rainbow', alpha=0.8)\n",
    "    plt.scatter(X[:, 0], X[:, 1], c=y, cmap='rainbow')\n",
    "    plt.xlim(xx.min(), xx.max())\n",
    "    plt.ylim(yy.min(), yy.max())\n",
    "    plt.subplot(1,2,2)\n",
    "    plt.plot(loss)\n",
    "    ymin, ymax = plt.ylim()\n",
    "    plt.ylim(0, ymax)\n",
    "    display.clear_output(wait=True)\n",
    "    display.display(plt.gcf())\n",
    "    \n",
    "def viz_opt(func, gradf, hessf, X, y, n_iter=10):\n",
    "    a = None\n",
    "    loss1 = np.zeros(n_iter)\n",
    "    plt.figure(figsize=(12,5))\n",
    "    ind = np.arange(X.shape[0])\n",
    "    \n",
    "    w, d = np.zeros(X.shape[1]), np.zeros(X.shape[1])\n",
    "    \n",
    "    for i in range(n_iter):        \n",
    "        loss1[i] += func(w)\n",
    "        visualize(X, y, w, loss1, n_iter)\n",
    "        \n",
    "        fvalx, gradx, hessx = func(w), grad(w), hess(w)\n",
    "        d = cg(hessx, -gradx)[0]\n",
    "        alpha = line_search_armijo(func, w, d, gradx, fvalx)[0]\n",
    "        w += alpha*d\n",
    "        \n",
    "    visualize(X, y, w, loss1, n_iter)\n",
    "    \n",
    "    q = plt.clf()\n",
    "    plt.show()"
   ]
  },
  {
   "cell_type": "code",
   "execution_count": 84,
   "metadata": {
    "collapsed": false
   },
   "outputs": [],
   "source": [
    "from sklearn.datasets import make_moons, make_circles, make_classification\n",
    "\n",
    "X, y = make_classification(n_features=2, n_redundant=0, n_informative=2)\n",
    "X += np.random.random(X.shape)\n",
    "\n",
    "datasets = [make_moons(noise=0.1), make_circles(noise=0.1, factor=0.5), (X, y)]"
   ]
  },
  {
   "cell_type": "code",
   "execution_count": 85,
   "metadata": {
    "collapsed": false
   },
   "outputs": [
    {
     "data": {
      "image/png": "[encoded data removed]",
      "text/plain": [
       "<matplotlib.figure.Figure at 0x7f9333b31940>"
      ]
     },
     "metadata": {},
     "output_type": "display_data"
    },
    {
     "data": {
      "text/plain": [
       "<matplotlib.figure.Figure at 0x7f9333b31940>"
      ]
     },
     "metadata": {},
     "output_type": "display_data"
    }
   ],
   "source": [
    "from IPython import display\n",
    "\n",
    "def classify(X, w):\n",
    "    return np.sign(1.0 / (1.0 + np.exp(-X.dot(w))) - 0.5)\n",
    "\n",
    "func = lambda w: logistic(w, X, y)\n",
    "grad = lambda w: logistic_grad(w, X, y)\n",
    "hess = lambda w: logistic_hess(w, X, y)\n",
    "\n",
    "for X, y in datasets:\n",
    "    X, y = expand(X), -2*(y-0.5)\n",
    "    a = viz_opt(func, grad, hess, X, y) "
   ]
  },
  {
   "cell_type": "code",
   "execution_count": null,
   "metadata": {
    "collapsed": true
   },
   "outputs": [],
   "source": []
  }
 ],
 "metadata": {
  "kernelspec": {
   "display_name": "Python 3",
   "language": "python",
   "name": "python3"
  },
  "language_info": {
   "codemirror_mode": {
    "name": "ipython",
    "version": 3
   },
   "file_extension": ".py",
   "mimetype": "text/x-python",
   "name": "python",
   "nbconvert_exporter": "python",
   "pygments_lexer": "ipython3",
   "version": "3.5.2"
  },
  "widgets": {
   "state": {},
   "version": "1.1.1"
  }
 },
 "nbformat": 4,
 "nbformat_minor": 0
}
