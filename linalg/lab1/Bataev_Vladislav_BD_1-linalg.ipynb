{
 "cells": [
  {
   "cell_type": "markdown",
   "metadata": {},
   "source": [
    "# Лабораторная работа 1"
   ]
  },
  {
   "cell_type": "markdown",
   "metadata": {},
   "source": [
    "Не забываем загрузить библиотеки:"
   ]
  },
  {
   "cell_type": "code",
   "execution_count": 1,
   "metadata": {
    "collapsed": true
   },
   "outputs": [],
   "source": [
    "# Библиотека для работы с матрицами\n",
    "import numpy as np \n",
    "\n",
    "# Алгоритмы линейной алгебры\n",
    "import scipy.linalg as sla\n",
    "\n",
    "# Библиотека для работы с разреженными матрицами\n",
    "import scipy.sparse as sps\n",
    "\n",
    "# Алгоритмы линейной алгебры для разреженных матриц\n",
    "import scipy.sparse.linalg as spla\n",
    "\n",
    "# Графическая библиотека\n",
    "import matplotlib.pyplot as plt\n",
    "\n",
    "# Библиотека для измерения времени\n",
    "import timeit\n",
    "\n",
    "# Позволяет отрисовывать графики и изображения прямо в ноутбуке, а не в отдельном окне. Жизненно важная вещь!\n",
    "%matplotlib inline\n",
    "\n",
    "import time\n",
    "import warnings\n",
    "warnings.filterwarnings('ignore')"
   ]
  },
  {
   "cell_type": "code",
   "execution_count": 3,
   "metadata": {
    "collapsed": true
   },
   "outputs": [],
   "source": [
    "import sys\n",
    "\n",
    "def dynamic_print(s):\n",
    "    sys.stdout.write('\\r{}'.format(str(s)))\n",
    "    sys.stdout.flush()"
   ]
  },
  {
   "cell_type": "markdown",
   "metadata": {},
   "source": [
    "## Часть 1. Особенности LU-разложения\n",
    "\n",
    "С точки зрения математики матричные разложения являются точными: произведение сомножителей всегда равняется исходной матрицы $A$. К сожалению, на практике этом часто мешает вычислительная погрешность. \n",
    "\n",
    "Для $LU$ разложения l2-норма ошибки ошибки $||\\delta A|| = ||A - LU||$ удовлетворяет следующей оценке:\n",
    "\n",
    "$$||\\delta A|| \\leqslant ||L|| \\cdot ||U|| \\cdot O(\\varepsilon_{machine})$$\n",
    "\n",
    "А нормы $L$ и $U$ могут быть совсем нехорошими."
   ]
  },
  {
   "cell_type": "markdown",
   "metadata": {},
   "source": [
    "**Задание 1.1 (1 балл)** Рассмотрим следующее LU-разложение:\n",
    "\n",
    "$$\\begin{pmatrix}\n",
    "10^{-20} & 1\\\\\n",
    "1 & 1\n",
    "\\end{pmatrix} = \\begin{pmatrix}\n",
    "1 & 0\\\\\n",
    "10^{20} & 1\n",
    "\\end{pmatrix}\\cdot\\begin{pmatrix}\n",
    "10^{-20} & 1\\\\\n",
    "0 & 1 - 10^{20}\n",
    "\\end{pmatrix}$$\n",
    "\n",
    "Перемножьте полученные матрицы $L$ и $U$. А теперь перемножьте такие же матрицы, только после всех единиц поставьте десятичные точки. Изменился ли ответ? Как вам кажется, почему?"
   ]
  },
  {
   "cell_type": "code",
   "execution_count": 24,
   "metadata": {
    "collapsed": false
   },
   "outputs": [
    {
     "data": {
      "text/plain": [
       "matrix([[1e-20, 1],\n",
       "        [1.0, 1]], dtype=object)"
      ]
     },
     "execution_count": 24,
     "metadata": {},
     "output_type": "execute_result"
    }
   ],
   "source": [
    "A = np.matrix([[10**(-20), 1], [1, 1]])\n",
    "L = np.matrix([[1, 0], [10**20, 1]])\n",
    "U = np.matrix([[10**(-20), 1], [0, 1 - 10**20]])\n",
    "\n",
    "L.dot(U)"
   ]
  },
  {
   "cell_type": "code",
   "execution_count": 11,
   "metadata": {
    "collapsed": false
   },
   "outputs": [
    {
     "data": {
      "text/plain": [
       "matrix([[1e-20, 1.0],\n",
       "        [1.0, 0.0]], dtype=object)"
      ]
     },
     "execution_count": 11,
     "metadata": {},
     "output_type": "execute_result"
    }
   ],
   "source": [
    "A = np.matrix([[10**(-20), 1.0], [1.0, 1.0]])\n",
    "L = np.matrix([[1.0, 0.0], [10**20, 1.0]])\n",
    "U = np.matrix([[10**(-20), 1.0], [0.0, 1.0 - 10**(20)]])\n",
    "\n",
    "L.dot(U)"
   ]
  },
  {
   "cell_type": "markdown",
   "metadata": {},
   "source": [
    "Ответ изменился из-за того, что если прибавить к большому числу с плавающей точкой маленькое, то оно не изменится. То есть получаем такие эффекты: "
   ]
  },
  {
   "cell_type": "code",
   "execution_count": 28,
   "metadata": {
    "collapsed": false
   },
   "outputs": [
    {
     "data": {
      "text/plain": [
       "0.0"
      ]
     },
     "execution_count": 28,
     "metadata": {},
     "output_type": "execute_result"
    }
   ],
   "source": [
    "10**20 + 1.0 - 10**20"
   ]
  },
  {
   "cell_type": "markdown",
   "metadata": {},
   "source": [
    "Отметим, что в реальных вычислениях матричные элементы почти наверняка с самого начала будут числами с плавающей точкой (а не целыми).\n",
    "\n",
    "Теперь проверьте, что будет, если вычислить QR-разложение исходной матрицы и перемножить матрицы $Q$ и $R$."
   ]
  },
  {
   "cell_type": "code",
   "execution_count": 33,
   "metadata": {
    "collapsed": false
   },
   "outputs": [
    {
     "name": "stdout",
     "output_type": "stream",
     "text": [
      "[[ 0. -1.]\n",
      " [-1.  0.]]\n",
      "[[-1. -1.]\n",
      " [ 0. -1.]]\n",
      "[[ 0.  1.]\n",
      " [ 1.  1.]]\n"
     ]
    }
   ],
   "source": [
    "Q, R = sla.qr(A)\n",
    "print(Q)\n",
    "print(R)\n",
    "print (np.dot(Q, R))"
   ]
  },
  {
   "cell_type": "markdown",
   "metadata": {},
   "source": [
    "**Выход: LU-разложение с выбором главного элемента (по столбцу)**\n",
    "\n",
    "Каждый раз ищем максимум в столбце и переставляем соответствующую строку наверх.\n",
    "\n",
    "$$\\begin{pmatrix}\n",
    "b_{11} & \\dots & b_{1i} & b_{1,i+1} & \\dots & b_{1n}\\\\\n",
    " & \\ddots & \\vdots & \\vdots & & \\vdots\\\\\n",
    " & & \\color{blue}{b_{ii}} & \\color{blue}{b_{i,i+1}} & \\dots & \\color{blue}{b_{in}} \\\\\n",
    " & & b_{i+1,i} & b_{i+1,i+1} & \\dots & b_{i+1,n}\\\\\n",
    " & & \\vdots & \\vdots &  & \\vdots \\\\\n",
    " & & \\color{green}{b_{ji}} & \\color{green}{b_{j,i+1}} & \\dots & \\color{green}{b_{jn}} \\\\\n",
    " & & \\vdots & \\vdots & & \\vdots\\\\\n",
    "\\end{pmatrix}\\longrightarrow\n",
    "\\begin{pmatrix}\n",
    "b_{11} & \\dots & b_{1i} & b_{1,i+1} & \\dots & b_{1n}\\\\\n",
    " & \\ddots & \\vdots & \\vdots & & \\vdots\\\\\n",
    " & & \\color{green}{b_{ji}} & \\color{green}{b_{j,i+1}} & \\dots & \\color{green}{b_{jn}} \\\\\n",
    " & & b_{i+1,i} & b_{i+1,i+1} & \\dots & b_{i+1,n}\\\\\n",
    " & & \\vdots & \\vdots &  & \\vdots \\\\\n",
    " & & \\color{blue}{b_{ii}} & \\color{blue}{b_{i,i+1}} & \\dots & \\color{blue}{b_{in}} \\\\\n",
    " & & \\vdots & \\vdots & & \\vdots\\\\\n",
    "\\end{pmatrix}\\longrightarrow$$\n",
    "$$\\longrightarrow\\begin{pmatrix}\n",
    "b_{11} & \\dots & b_{1i} & b_{1,i+1} & \\dots & b_{1n}\\\\\n",
    " & \\ddots & \\vdots & \\vdots & & \\vdots\\\\\n",
    " & & \\color{green}{b_{ji}} & \\color{green}{b_{j,i+1}} & \\dots & \\color{green}{b_{jn}} \\\\\n",
    " & & 0 & b'_{i+1,i+1} & \\dots & b'_{i+1,n}\\\\\n",
    " & & \\vdots & \\vdots &  & \\vdots \\\\\n",
    " & & 0 & b'_{i,i+1} & \\dots & b'_{in} \\\\\n",
    " & & \\vdots & \\vdots & & \\vdots\n",
    "\\end{pmatrix}$$\n",
    "\n",
    "Надо сказать, что примерно так вы все и решали системы на первом курсе университета! Именно наибольший, а не первый ненулевой элемент столбца берётся потому, что чем больше число - тем меньшие погрешности потенциально вносит деление на него."
   ]
  },
  {
   "cell_type": "markdown",
   "metadata": {},
   "source": [
    "Что при этом происходит? Перестановка строк матрицы равносильна умножению её слева на матрицу соответствующей перестановки. Таким образом, мы получаем равенство\n",
    "\n",
    "$$L_nP_nL_{n-1}P_{n-1}\\ldots L_2P_2L_1P_1 A = U\\qquad\\qquad(1)$$\n",
    "\n",
    "где $L_1,\\ldots,L_n$ - некоторые нижнетреугольные матрицы.\n",
    "\n",
    "**Вопрос:** Ну, и где здесь матрица $L$?!\n",
    "\n",
    "**Ответ:** Введём новые матрицы\n",
    "\n",
    "\\begin{align*}\n",
    "L'_n &= L_n\\\\\n",
    "L'_{n-1} &= P_nL_nP_{n-1}\\\\\n",
    "L'_{n-2} &= P_nP_{n-1}L_{n-1}P_n^{-1}P_{n-1}^{-1}\\\\\n",
    "&\\ldots\\\\\n",
    "L'_1 &= P_nP_{n-1}\\ldots P_2L_1P_2^{-1}\\ldots P_{n-1}^{-1}P_n^{-1}\n",
    "\\end{align*}\n",
    "\n",
    "**Упражнение.** Матрицы $L'_i$ тоже нижнетреугольные!\n",
    "\n",
    "Тогда левая часть (1) перепишется в виде\n",
    "\n",
    "$$\\underbrace{L'_nL'_{n-1}\\ldots L'_1}_{:=L^{-1}}\\underbrace{P_nP_{n-1}\\ldots P_1}_{:=P^{-1}}\\cdot A$$"
   ]
  },
  {
   "cell_type": "markdown",
   "metadata": {},
   "source": [
    "**Итог:** разложение вида\n",
    "$$A = PLU$$\n",
    "где $P$ - матрица перестановки.\n",
    "\n",
    "Функция `scipy.linalg.lu` в Питоне находит именно такое разложение!\n",
    "\n",
    "Все элементы $L$ не превосходят $1$, так что $||L||]\\leqslant 1$. При этом\n",
    "$$||\\Delta A|| \\leqslant ||A||\\cdot O(\\rho \\varepsilon_{machine}),$$\n",
    "где\n",
    "$$\\rho = \\frac{\\max_{i,j}|u_{ij}|}{\\max_{i,j}|a_{ij}|}$$\n",
    "\n",
    "Но что, если это отношение велико?"
   ]
  },
  {
   "cell_type": "markdown",
   "metadata": {},
   "source": [
    "**Задание 1.2 (1 балл)** Сгенерируйте матрицу $500\\times500$, имеющую вид\n",
    "\n",
    "$$\\begin{pmatrix}\n",
    "1 & 0 & 0 & \\cdots & 0 & 0 & 1\\\\\n",
    "-1 & 1 & 0 &  &  & 0 & 1\\\\\n",
    "-1 & -1 & 1 & 0  &  & 0 & 1\\\\\n",
    "\\vdots & & \\ddots & \\ddots  & \\ddots & \\vdots & \\vdots \\\\\n",
    "-1 & -1 & -1 & \\ddots & 1 & 0 & 1\\\\\n",
    "-1 & -1 & -1 &  & -1 & 1 & 1\\\\\n",
    "-1 & -1 & -1 & \\cdots & -1 & -1 & 1\n",
    "\\end{pmatrix}$$\n",
    "\n",
    "Например, сгенерировать сначала нулевую матрицу нужного размера, а потом заполнить её клетки правильными числами.\n",
    "\n",
    "Найдите её PLU-разложение и QR-разложение. Убедитесь, что $P = E$. Вычислите $||A - LU||_2$ и $||A - QR||_2$. Чему равен фактор роста матрицы $A$?"
   ]
  },
  {
   "cell_type": "code",
   "execution_count": 4,
   "metadata": {
    "collapsed": false
   },
   "outputs": [
    {
     "name": "stdout",
     "output_type": "stream",
     "text": [
      "Matrix A:\n",
      "[[ 1.  0.  0. ...,  0.  0.  1.]\n",
      " [-1.  1.  0. ...,  0.  0.  1.]\n",
      " [-1. -1.  1. ...,  0.  0.  1.]\n",
      " ..., \n",
      " [-1. -1. -1. ...,  1.  0.  1.]\n",
      " [-1. -1. -1. ..., -1.  1.  1.]\n",
      " [-1. -1. -1. ..., -1. -1.  1.]]\n",
      "Matrix P:\n",
      "[[ 1.  0.  0. ...,  0.  0.  0.]\n",
      " [ 0.  1.  0. ...,  0.  0.  0.]\n",
      " [ 0.  0.  1. ...,  0.  0.  0.]\n",
      " ..., \n",
      " [ 0.  0.  0. ...,  1.  0.  0.]\n",
      " [ 0.  0.  0. ...,  0.  1.  0.]\n",
      " [ 0.  0.  0. ...,  0.  0.  1.]]\n",
      "yes, equal\n",
      "2.53295195207e+76\n",
      "1.55336004413e-12\n",
      "1.63669530395e+150\n"
     ]
    }
   ],
   "source": [
    "A = np.zeros(shape=(500, 500))\n",
    "for i in range(500):\n",
    "    A[i][i] = 1\n",
    "    for j in range(i):\n",
    "        A[i][j] = -1\n",
    "for i in range(500):\n",
    "    A[i][499] = 1\n",
    "print(\"Matrix A:\")\n",
    "print(A)\n",
    "P, L, U = sla.lu(A)\n",
    "Q, R = sla.qr(A)\n",
    "print(\"Matrix P:\")\n",
    "print(P)\n",
    "if np.array_equal(P, np.eye(500)):\n",
    "    print(\"yes, equal\")\n",
    "print((sla.norm(A - np.dot(L, U))))\n",
    "print((sla.norm(A - np.dot(Q, R))))\n",
    "print((U.max() / A.max()))"
   ]
  },
  {
   "cell_type": "markdown",
   "metadata": {},
   "source": [
    "К счастью, на практике так редко бывает (чёрт его знает почему). Тем не менее, QR-разложение всё-таки лучше. Теоретическая оценка для ошибки QR-разложения имеет вид\n",
    "\n",
    "$$||A - QR||_2 \\leqslant ||A||_2\\cdot O(\\varepsilon_{machine})$$"
   ]
  },
  {
   "cell_type": "markdown",
   "metadata": {},
   "source": [
    "**Задание 1.3 (1 балл)** Рассмотрим *матрицу Паскаля* $S_n = \\left(C_{i + j}^i\\right)$ ($i,j = 0,\\ldots,n-1$).\n",
    "\n",
    "Каково её LU-разложение? Выведите формулы для матриц L и U и приведите краткое обоснование прямо в ноутбуке. Не пользуйтесь функцией `scipy.linalg.lu`, чтобы его \"угадать\": матрица P будет отлична от единичной, и вы получите не то, что хотели.\n",
    "\n",
    "Каков её определитель?"
   ]
  },
  {
   "cell_type": "markdown",
   "metadata": {
    "collapsed": true
   },
   "source": [
    "----\n",
    "Формулы для L и U: $L_n=C_i^j, U_n=C_j^i.$ Тогда нужно проверить следущее равенство: $\\sum_{k=0}^{n-1}C_i^kC_j^k = C_{i+j}^i.$ У этого равенства следующий комбинаторный смысл: справа стоит число способов выбрать i-элементное подмножество в (i+j)-элементном множестве; это же число можно посчитать по-другому: сначала разбить (i+j)-элементное множество на два произвольных подмножества размеров j и i, а затем в первом выбрать k элементов, а во втором (i-k) элементов.\n",
    "\n",
    "Определители матриц L_n и U_n равны 1, поскольку они треугольные, и на диагонали у них стоят единицы. Значит $det(S_n) = det(L_n) * det(U_n) = 1$."
   ]
  },
  {
   "cell_type": "markdown",
   "metadata": {},
   "source": [
    "Напишите функцию `my_pascal(n)`, генерирующую матрицу Паскаля размера $n\\times n$.\n",
    "\n",
    "Найдите норму разности $||A - PLU||_2$. Не такая уж и большая, правда?"
   ]
  },
  {
   "cell_type": "code",
   "execution_count": 64,
   "metadata": {
    "collapsed": false
   },
   "outputs": [
    {
     "name": "stdout",
     "output_type": "stream",
     "text": [
      "2.31466102561\n"
     ]
    }
   ],
   "source": [
    "###\n",
    "# Your function here\n",
    "def pascal_matrix(n):\n",
    "    pascal = np.zeros(shape=(n, n))\n",
    "    for i in range(n):\n",
    "        pascal[0][i] = 1\n",
    "        pascal[i][0] = 1\n",
    "    for i in range(1, n):\n",
    "        for j in range(1, n):\n",
    "            pascal[i][j] = pascal[i - 1][j] + pascal[i][j - 1]\n",
    "    return pascal\n",
    "###\n",
    "\n",
    "A = pascal_matrix(30)\n",
    "\n",
    "P, L, U = sla.lu(A)\n",
    " \n",
    "# Find ||A - PLU||_2 here\n",
    "\n",
    "print (sla.norm(A - np.dot(np.dot(P, L), U), 'fro'))"
   ]
  },
  {
   "cell_type": "markdown",
   "metadata": {},
   "source": [
    "Теперь попросим компьютер вычислить определитель матрицы Паскаля $30\\times30$ и решить простенькую систему уравнений:"
   ]
  },
  {
   "cell_type": "code",
   "execution_count": 65,
   "metadata": {
    "collapsed": false
   },
   "outputs": [
    {
     "name": "stdout",
     "output_type": "stream",
     "text": [
      "-3.0173684276564017e+49\n",
      "492533426.52102125\n"
     ]
    }
   ],
   "source": [
    "print(sla.det(A))\n",
    "\n",
    "# Try to solve a linear system\n",
    "x = np.ones(30)\n",
    "b = A.dot(x)\n",
    "x1 = sla.solve(A, b)\n",
    "print(sla.norm(x1 - x))"
   ]
  },
  {
   "cell_type": "markdown",
   "metadata": {},
   "source": [
    "Так себе ошибка. Теперь попробуем сделать это с помощью QR-разложения. Станет ли лучше?"
   ]
  },
  {
   "cell_type": "code",
   "execution_count": 67,
   "metadata": {
    "collapsed": false
   },
   "outputs": [
    {
     "name": "stdout",
     "output_type": "stream",
     "text": [
      "965320173.5667421\n"
     ]
    }
   ],
   "source": [
    "Q, R = sla.qr(A)\n",
    "x2 = sla.solve_triangular(R, Q.T.dot(b))\n",
    "print(sla.norm(x2 - x))"
   ]
  },
  {
   "cell_type": "markdown",
   "metadata": {},
   "source": [
    "Объясните полученные неприятные результаты."
   ]
  },
  {
   "cell_type": "markdown",
   "metadata": {
    "collapsed": true
   },
   "source": [
    "----\n",
    "Дело в том, что норма матрицы A достаточно большая, а точность чисел в машинном представлении ограничена. Поэтому верхняя оценка на погрешность получается достаточно большой."
   ]
  },
  {
   "cell_type": "markdown",
   "metadata": {},
   "source": [
    "## Часть 2. Решение СЛАУ с положительно определённой матрицей"
   ]
  },
  {
   "cell_type": "markdown",
   "metadata": {},
   "source": [
    "**Задание 2.1. Какие же методы использовать? (3 балла)**"
   ]
  },
  {
   "cell_type": "markdown",
   "metadata": {},
   "source": [
    "Реализуйте несколько алгоритмов решения СЛАУ $Ax = b$, где $A = A^T$, $A \\geqslant 0$ с матричной правой частью $b$.\n",
    "\n",
    "1. **Наивный способ**: $x = A^{-1}b$;\n",
    "\n",
    "2. **Стандартный способ**: с помощью процедуры `solve` модуля `scipy.linalg`;\n",
    "\n",
    "3. **Разложение Холецкого**: с помощью разложения Холецкого для матрицы $A$ и последующего решения двух СЛАУ с треугольными матрицами;\n",
    "\n",
    "4. **Разложение Холецкого с процедурами scipy**: с помощью разложения Холецкого для матрицы $A$ и специальных процедур из пакета `scipy.linalg` (`cho_factor`, `cho_solve`).\n",
    "\n",
    "Для решения СЛАУ с треугольной матрицей можно воспользоваться функцией `solve_triangular` из пакета `scipy.linalg`."
   ]
  },
  {
   "cell_type": "code",
   "execution_count": 5,
   "metadata": {
    "collapsed": true
   },
   "outputs": [],
   "source": [
    "def naive_solve(A, b):\n",
    "    return sla.inv(A).dot(b)\n",
    "\n",
    "def standard_solve(A, b):\n",
    "    return sla.solve(A, b)\n",
    "    \n",
    "def cholesky_solve(A, b):\n",
    "    L = sla.cholesky(A)\n",
    "    y = sla.solve_triangular(L.T.conj(), b, lower=True)\n",
    "    return sla.solve_triangular(L, y, lower=False)\n",
    "\n",
    "def standard_cholesky_solve(A, b):\n",
    "    L = sla.cho_factor(A)\n",
    "    return sla.cho_solve(L, b)\n",
    "# And so on and so forth"
   ]
  },
  {
   "cell_type": "markdown",
   "metadata": {},
   "source": [
    "Проведите тестирование реализованных алгоритмов на небольшой СЛАУ на предмет совпадения ответов"
   ]
  },
  {
   "cell_type": "code",
   "execution_count": 6,
   "metadata": {
    "collapsed": false
   },
   "outputs": [
    {
     "name": "stdout",
     "output_type": "stream",
     "text": [
      "[-0.13333333  0.6       ]\n",
      "[-0.13333333  0.6       ]\n",
      "[-0.13333333  0.6       ]\n",
      "[-0.13333333  0.6       ]\n"
     ]
    }
   ],
   "source": [
    "A = np.matrix([[6, 3], [3, 4]])\n",
    "b = np.array([1, 2])\n",
    "print(naive_solve(A, b))\n",
    "print(standard_solve(A, b))\n",
    "print(cholesky_solve(A, b))\n",
    "print(standard_cholesky_solve(A, b))"
   ]
  },
  {
   "cell_type": "markdown",
   "metadata": {},
   "source": [
    "Проведите эксперименты и выясните, как меняется время работы этих методов\n",
    "\n",
    "- с ростом размера матрицы $A$ при фиксированном числе правых частей. Рассмотрите системы с 10, 100, 1000 правых частей;\n",
    "\n",
    "- с ростом числа правых частей при фиксированном размере матрицы $A$ (например, $100\\times100$).\n",
    "\n",
    "Обязательно нарисуйте графики (время работы от размера). Какой метод оказывается более быстрым?\n",
    "\n",
    "Для тестирования вам пригодятся случайные матрицы, сгенерированные с помощью функции `numpy.random.randn`. Но не забудьте, что в задаче речь идёт о *симметрических положительно определённых матрицах*. Так что подумайте, как из случайных матриц сделать симметрические положительно определённые.\n",
    "\n",
    "\n",
    "Матрицы левых частей должны быть не менее $100\\times100$: при меньших размерностях заметную роль могут играть факторы, не имеющие отношения к алгебре. Мы рекомендуем рассматривать системы с матрицами размера от 100 до 1000 и с числом правых частей от 10 до 10000. Приготовьтесь к тому, что эксперименты могут занять какое-то время."
   ]
  },
  {
   "cell_type": "code",
   "execution_count": 7,
   "metadata": {
    "collapsed": false
   },
   "outputs": [],
   "source": [
    "%%capture\n",
    "\n",
    "times = {\n",
    "    10:{'naive' : [], 'standard' : [], 'cholesky' : [], 'standard_cholesky' : []},\n",
    "    100:{'naive' : [], 'standard' : [], 'cholesky' : [], 'standard_cholesky' : []},\n",
    "    1000:{'naive' : [], 'standard' : [], 'cholesky' : [], 'standard_cholesky' : []}\n",
    "    }\n",
    "\n",
    "b_sizes = [10, 100, 1000]\n",
    "A_sizes = list(range(100, 1001, 100))\n",
    "for A_size in A_sizes: \n",
    "    for right_size in b_sizes:\n",
    "        X = np.random.rand(A_size, A_size)\n",
    "        A = np.dot(X, X.T)\n",
    "        b = np.random.rand(A_size, right_size)\n",
    "        \n",
    "        res = %timeit -o naive_solve(A, b)\n",
    "        times[right_size]['naive'].append(res.best)\n",
    "        \n",
    "        res = %timeit -o standard_solve(A, b)\n",
    "        times[right_size]['standard'].append(res.best)\n",
    "        \n",
    "        res = %timeit -o cholesky_solve(A, b)\n",
    "        times[right_size]['cholesky'].append(res.best)\n",
    "        \n",
    "        res = %timeit -o standard_cholesky_solve(A, b)\n",
    "        times[right_size]['standard_cholesky'].append(res.best)"
   ]
  },
  {
   "cell_type": "code",
   "execution_count": 8,
   "metadata": {
    "collapsed": false
   },
   "outputs": [],
   "source": [
    "def print_graph(dim, dim_label, graphs, labels, plt_label):\n",
    "    for graph, label in zip(graphs, labels):\n",
    "        plt.semilogy(dim, graph, label=label)\n",
    "    plt.xlabel(dim_label)\n",
    "    plt.ylabel('time (log scale)')\n",
    "    plt.legend(loc='lower right')\n",
    "    plt.title(plt_label)\n",
    "    plt.show()"
   ]
  },
  {
   "cell_type": "code",
   "execution_count": 14,
   "metadata": {
    "collapsed": false
   },
   "outputs": [
    {
     "data": {
      "image/png": "[encoded data removed]",
      "text/plain": [
       "<matplotlib.figure.Figure at 0x7fd9585f7080>"
      ]
     },
     "metadata": {},
     "output_type": "display_data"
    },
    {
     "data": {
      "image/png": "[encoded data removed]",
      "text/plain": [
       "<matplotlib.figure.Figure at 0x7fd955d6cf60>"
      ]
     },
     "metadata": {},
     "output_type": "display_data"
    },
    {
     "data": {
      "image/png": "[encoded data removed]",
      "text/plain": [
       "<matplotlib.figure.Figure at 0x7fd9585179b0>"
      ]
     },
     "metadata": {},
     "output_type": "display_data"
    }
   ],
   "source": [
    "methods = ['naive', 'standard', 'cholesky', 'standard_cholesky']\n",
    "\n",
    "for size_dim in b_sizes:\n",
    "    graphs = [times[size_dim][method] for method in methods]\n",
    "    print_graph(A_sizes, 'A_dim', graphs, methods, 'size_dim = ' + str(size_dim))"
   ]
  },
  {
   "cell_type": "code",
   "execution_count": 17,
   "metadata": {
    "collapsed": false
   },
   "outputs": [],
   "source": [
    "%%capture\n",
    "\n",
    "times_fixed = {\n",
    "    'naive' : {10 : [], 100 : [], 500: [], 1000 : []},\n",
    "    'standard' : {10 : [], 100 : [], 500 : [], 1000 : []},\n",
    "    'cholesky' : {10 : [], 100 : [], 500: [], 1000 : []},\n",
    "    'standard_cholesky' : {10 : [], 100 : [], 500: [], 1000 : []},\n",
    "}\n",
    "\n",
    "sizes_dim = [10, 100, 500, 1000]\n",
    "A_size = 500\n",
    "for right_size in sizes_dim:\n",
    "    X = np.random.rand(A_size, A_size)\n",
    "    A = np.dot(X, X.T)\n",
    "    B = np.random.rand(A_size, right_size)\n",
    "\n",
    "    res = %timeit -o naive_solve(A, B)\n",
    "    times_fixed['naive'][right_size].append(res.best)\n",
    "\n",
    "    res = %timeit -o standard_solve(A, B)\n",
    "    times_fixed['standard'][right_size].append(res.best)\n",
    "\n",
    "    res = %timeit -o cholesky_solve(A, B)\n",
    "    times_fixed['cholesky'][right_size].append(res.best)\n",
    "\n",
    "    res = %timeit -o standard_cholesky_solve(A, B)\n",
    "    times_fixed['standard_cholesky'][right_size].append(res.best)"
   ]
  },
  {
   "cell_type": "code",
   "execution_count": 18,
   "metadata": {
    "collapsed": false
   },
   "outputs": [
    {
     "data": {
      "image/png": "[encoded data removed]",
      "text/plain": [
       "<matplotlib.figure.Figure at 0x7fd955ca3978>"
      ]
     },
     "metadata": {},
     "output_type": "display_data"
    }
   ],
   "source": [
    "methods = ['naive', 'standard', 'cholesky', 'standard_cholesky']\n",
    "\n",
    "graphs = [[times_fixed[method][size_dim] for size_dim in sizes_dim] for method in methods]\n",
    "print_graph(sizes_dim, 'sizes_dim', graphs, methods, 'fixed size = 500')"
   ]
  },
  {
   "cell_type": "markdown",
   "metadata": {},
   "source": [
    "Вроде как решение с помощью разложения Холецкого быстрее, но нельзя сказать, что это значительный выигрыш."
   ]
  },
  {
   "cell_type": "markdown",
   "metadata": {},
   "source": [
    "**Задание 2.2. Пример: вычисление логарифма плотности многомерного нормального распределения (3 балла)**"
   ]
  },
  {
   "cell_type": "markdown",
   "metadata": {},
   "source": [
    "Случайная величина $\\vec{x}\\in\\mathbb{R}^D$ имеет многомерное нормальное распределение, если её плотность может быть представлена как\n",
    "$$\n",
    "p(\\vec{x}) = \\mathcal{N}(\\vec{x}|\\vec{\\mu},\\Sigma) = \\frac{1}{\\sqrt{2\\pi}^D\\sqrt{\\det\\Sigma}}\\exp\\left(-\\frac{1}{2}(\\vec{x}-\\vec{\\mu})^T\\Sigma^{-1}(\\vec{x}-\\vec{\\mu})\\right)\n",
    "$$\n",
    "Здесь $\\vec{\\mu}\\in\\mathbb{R}^D -$ вектор мат. ожидания $\\vec{x}$, а $\\Sigma\\in\\mathbb{R}^{D{\\times}D} -$ матрица ковариации.\n",
    "\n",
    "С помощью матричных разложений реализуйте алгоритм вычисления логарифма нормальной плотности для набора векторов $X = \\{\\vec{x}_1,\\dots,\\vec{x}_N\\}$ для заданных $\\vec{\\mu}$ и $\\Sigma$."
   ]
  },
  {
   "cell_type": "markdown",
   "metadata": {},
   "source": [
    "Используем разложение Холецкого для матрицы $S$, то есть $S = L^T L$, где $L$ верхнетреугольная. С помощью него обращаем матрицу $S$ через обращение верхнетреугольной матрицы $L$, а именно $S^{-1} = L^{-1}L^{-T}.$ Далее для каждого смещенного вектора $x - m$ считаем скалярное произведение с нужными коэффициентами."
   ]
  },
  {
   "cell_type": "code",
   "execution_count": 22,
   "metadata": {
    "collapsed": false
   },
   "outputs": [],
   "source": [
    "def inverse_triangular(matrix, lower=False):\n",
    "    size = matrix.shape[0]\n",
    "    E = np.eye(size)\n",
    "    return sla.solve_triangular(matrix, E, lower=lower)\n",
    "\n",
    "#Заготовка:\n",
    "def my_multivariate_normal_logpdf(X, m, S):\n",
    "    '''\n",
    "    Ввод\n",
    "    -----\n",
    "    X: набор точек, numpy array размера N x D;\n",
    "    m: вектор средних значений, numpy array длины D;\n",
    "    S: ковариационная матрицы, numpy array размера D x D.\n",
    "    \n",
    "    Вывод\n",
    "    ------\n",
    "    res: результат вычислений, numpy array длины N.\n",
    "    '''\n",
    "    D = len(m)\n",
    "    constant = -float(D) / 2 * np.log(2 * np.pi) - 0.5 * np.log(sla.det(S))\n",
    "    X_minus_mean = X - m\n",
    "    L = sla.cholesky(S)\n",
    "    inv_L = inverse_triangular(L)\n",
    "    inv_S = (inv_L).dot(inv_L.T)\n",
    "    answers = []\n",
    "    \n",
    "    for x in X_minus_mean:\n",
    "        answers.append(-0.5 * ((x.T).dot((inv_S).dot(x))))\n",
    "    \n",
    "    return constant + np.array(answers)"
   ]
  },
  {
   "cell_type": "markdown",
   "metadata": {},
   "source": [
    "Сгенерируйте выборку из нормального распределения со случайными параметрами для небольшого $D$ с помощью функции `scipy.stats.multivariate_normal.rvs` и сравните на этой выборке результат работы вашего алгоритма с результатом стандартной функции `scipy.stats.multivariate_normal.logpdf`"
   ]
  },
  {
   "cell_type": "code",
   "execution_count": 23,
   "metadata": {
    "collapsed": true
   },
   "outputs": [],
   "source": [
    "from scipy.stats import multivariate_normal as m_n\n",
    "\n",
    "def get_normal_vectors(D, X_size):\n",
    "    L = np.random.rand(D, D) \n",
    "    S = np.dot(L, L.T) + np.identity(D)\n",
    "    mean = np.array(np.random.rand(1, D))\n",
    "    mean = mean[0]\n",
    "    X = np.array([m_n.rvs(mean=mean.T, cov=S) for i in range(X_size)])\n",
    "    return S, mean, X"
   ]
  },
  {
   "cell_type": "markdown",
   "metadata": {},
   "source": [
    "Замерьте время работы вашего алгоритма и функции `scipy.stats.multivariate_normal.logpdf` для различных значений $D$. Постарайтесь добиться, чтобы ваш алгоритм выигрывал по скорости у стандартной функции."
   ]
  },
  {
   "cell_type": "code",
   "execution_count": 25,
   "metadata": {
    "collapsed": false,
    "scrolled": true
   },
   "outputs": [
    {
     "name": "stdout",
     "output_type": "stream",
     "text": [
      "big size of X\n",
      "D, X_size = 150, 1000\n",
      "numpy logpdf: 0.00928807258605957\n",
      "my logpdf:    0.017166614532470703\n",
      "\n",
      "\n",
      "D, X_size = 150, 1500\n",
      "numpy logpdf: 0.02758312225341797\n",
      "my logpdf:    0.10193324089050293\n",
      "\n",
      "\n",
      "D, X_size = 200, 1000\n",
      "numpy logpdf: 0.018979310989379883\n",
      "my logpdf:    0.02129817008972168\n",
      "\n",
      "\n",
      "D, X_size = 200, 1500\n",
      "numpy logpdf: 0.030392169952392578\n",
      "my logpdf:    0.0284268856048584\n",
      "\n",
      "\n",
      "D, X_size = 250, 1000\n",
      "numpy logpdf: 0.030130863189697266\n",
      "my logpdf:    0.026326894760131836\n",
      "\n",
      "\n",
      "D, X_size = 250, 1500\n",
      "numpy logpdf: 0.04265427589416504\n",
      "my logpdf:    0.04977083206176758\n",
      "\n",
      "\n",
      "D, X_size = 300, 1000\n",
      "numpy logpdf: 0.03463172912597656\n",
      "my logpdf:    0.02763199806213379\n",
      "\n",
      "\n",
      "D, X_size = 300, 1500\n",
      "numpy logpdf: 0.109283447265625\n",
      "my logpdf:    0.19443440437316895\n",
      "\n",
      "\n",
      "D, X_size = 400, 1000\n",
      "numpy logpdf: 0.06344437599182129\n",
      "my logpdf:    0.04360699653625488\n",
      "\n",
      "\n",
      "D, X_size = 400, 1500\n",
      "numpy logpdf: 0.06846022605895996\n",
      "my logpdf:    0.057836055755615234\n",
      "\n",
      "\n"
     ]
    }
   ],
   "source": [
    "import time\n",
    "\n",
    "print ('big size of X')\n",
    "\n",
    "np_times = {1000: [], 1500: []}\n",
    "my_times = {1000: [], 1500: []}\n",
    "\n",
    "for D in [150, 200, 250, 300, 400]:\n",
    "    for X_size in [1000, 1500]:\n",
    "        S, mean, X = get_normal_vectors(D, X_size)\n",
    "        print ('D, X_size = ' + str(D) + ', '+ str(X_size))\n",
    "        np_start = time.time()\n",
    "        m_n_result = m_n.logpdf(X, mean, S)\n",
    "        np_finish = time.time()\n",
    "        print ('numpy logpdf: ' + str(np_finish - np_start))\n",
    "        np_times[X_size].append(np_finish - np_start)\n",
    "        \n",
    "        my_start = time.time()\n",
    "        my_result = my_multivariate_normal_logpdf(X, mean, S)\n",
    "        my_finish = time.time()\n",
    "        my_times[X_size].append(my_finish - my_start)\n",
    "        \n",
    "        print ('my logpdf:    ' + str(my_finish - my_start))\n",
    "        print ('\\n')"
   ]
  },
  {
   "cell_type": "code",
   "execution_count": 30,
   "metadata": {
    "collapsed": false
   },
   "outputs": [
    {
     "data": {
      "image/png": "[encoded data removed]",
      "text/plain": [
       "<matplotlib.figure.Figure at 0x7fd955d41320>"
      ]
     },
     "metadata": {},
     "output_type": "display_data"
    },
    {
     "data": {
      "image/png": "[encoded data removed]",
      "text/plain": [
       "<matplotlib.figure.Figure at 0x7fd955d456d8>"
      ]
     },
     "metadata": {},
     "output_type": "display_data"
    }
   ],
   "source": [
    "D_sizes = [150, 200, 250, 300, 400]\n",
    "for X_size in [1000, 1500]:\n",
    "    plt.semilogy(D_sizes, np_times[X_size], label='numpy')\n",
    "    plt.semilogy(D_sizes, my_times[X_size], label='my')\n",
    "    plt.xlabel('Dimension')\n",
    "    plt.ylabel('time')\n",
    "    plt.legend(loc='lower right')\n",
    "    plt.title('Size of data: ' + str(X_size))\n",
    "    plt.show()"
   ]
  },
  {
   "cell_type": "code",
   "execution_count": 32,
   "metadata": {
    "collapsed": false,
    "scrolled": true
   },
   "outputs": [
    {
     "name": "stdout",
     "output_type": "stream",
     "text": [
      "big dimension\n",
      "D, X_size = 300, 10\n",
      "numpy logpdf: 0.028333187103271484\n",
      "my logpdf:    0.0062944889068603516\n",
      "\n",
      "\n",
      "D, X_size = 300, 20\n",
      "numpy logpdf: 0.027643680572509766\n",
      "my logpdf:    0.006491899490356445\n",
      "\n",
      "\n",
      "D, X_size = 300, 50\n",
      "numpy logpdf: 0.02927565574645996\n",
      "my logpdf:    0.007562160491943359\n",
      "\n",
      "\n",
      "D, X_size = 300, 100\n",
      "numpy logpdf: 0.02954387664794922\n",
      "my logpdf:    0.03300619125366211\n",
      "\n",
      "\n",
      "D, X_size = 300, 150\n",
      "numpy logpdf: 0.04428863525390625\n",
      "my logpdf:    0.010456562042236328\n",
      "\n",
      "\n",
      "D, X_size = 600, 10\n",
      "numpy logpdf: 0.12849950790405273\n",
      "my logpdf:    0.06738448143005371\n",
      "\n",
      "\n",
      "D, X_size = 600, 20\n",
      "numpy logpdf: 0.3911740779876709\n",
      "my logpdf:    0.08024239540100098\n",
      "\n",
      "\n",
      "D, X_size = 600, 50\n",
      "numpy logpdf: 0.11961555480957031\n",
      "my logpdf:    0.038408756256103516\n",
      "\n",
      "\n",
      "D, X_size = 600, 100\n",
      "numpy logpdf: 0.3005063533782959\n",
      "my logpdf:    0.2964804172515869\n",
      "\n",
      "\n",
      "D, X_size = 600, 150\n",
      "numpy logpdf: 0.23916888236999512\n",
      "my logpdf:    0.3521537780761719\n",
      "\n",
      "\n",
      "D, X_size = 1000, 10\n",
      "numpy logpdf: 0.7261962890625\n",
      "my logpdf:    0.23085761070251465\n",
      "\n",
      "\n",
      "D, X_size = 1000, 20\n",
      "numpy logpdf: 0.48687100410461426\n",
      "my logpdf:    0.28245091438293457\n",
      "\n",
      "\n",
      "D, X_size = 1000, 50\n",
      "numpy logpdf: 0.5005512237548828\n",
      "my logpdf:    0.3084375858306885\n",
      "\n",
      "\n",
      "D, X_size = 1000, 100\n",
      "numpy logpdf: 0.453993558883667\n",
      "my logpdf:    0.3232603073120117\n",
      "\n",
      "\n",
      "D, X_size = 1000, 150\n",
      "numpy logpdf: 0.47124266624450684\n",
      "my logpdf:    0.3439328670501709\n",
      "\n",
      "\n"
     ]
    }
   ],
   "source": [
    "print ('big dimension')\n",
    "        \n",
    "np_times = {300: [], 600: [], 1000: []}\n",
    "my_times = {300: [], 600: [], 1000: []}\n",
    "\n",
    "for D in [300, 600, 1000]:\n",
    "    for X_size in [10, 20, 50, 100, 150]:\n",
    "        S, mean, X = get_normal_vectors(D, X_size)\n",
    "        print ('D, X_size = ' + str(D) + ', '+ str(X_size))\n",
    "        np_start = time.time()\n",
    "        m_n_result = m_n.logpdf(X, mean, S)\n",
    "        np_finish = time.time()\n",
    "        print ('numpy logpdf: ' + str(np_finish - np_start))\n",
    "\n",
    "        my_start = time.time()\n",
    "        my_result = my_multivariate_normal_logpdf(X, mean, S)\n",
    "        my_finish = time.time()\n",
    "        \n",
    "        np_times[D].append(np_finish - np_start)\n",
    "        my_times[D].append(my_finish - my_start)\n",
    "        print ('my logpdf:    ' + str(my_finish - my_start))\n",
    "\n",
    "        print ('\\n')"
   ]
  },
  {
   "cell_type": "code",
   "execution_count": 36,
   "metadata": {
    "collapsed": false
   },
   "outputs": [
    {
     "data": {
      "image/png": "[encoded data removed]",
      "text/plain": [
       "<matplotlib.figure.Figure at 0x7fd955384fd0>"
      ]
     },
     "metadata": {},
     "output_type": "display_data"
    },
    {
     "data": {
      "image/png": "[encoded data removed]",
      "text/plain": [
       "<matplotlib.figure.Figure at 0x7fd9552090f0>"
      ]
     },
     "metadata": {},
     "output_type": "display_data"
    },
    {
     "data": {
      "image/png": "[encoded data removed]",
      "text/plain": [
       "<matplotlib.figure.Figure at 0x7fd9554af358>"
      ]
     },
     "metadata": {},
     "output_type": "display_data"
    }
   ],
   "source": [
    "D_sizes = [300, 600, 1000]\n",
    "X_sizes = [10, 20, 50, 100, 150]\n",
    "for D in D_sizes:\n",
    "    plt.semilogy(X_sizes, np_times[D], label='numpy')\n",
    "    plt.semilogy(X_sizes, my_times[D], label='my')\n",
    "    plt.xlabel('Size of data')\n",
    "    plt.ylabel('time')\n",
    "    plt.legend(loc='lower right')\n",
    "    plt.title('Dimension: ' + str(D))\n",
    "    plt.show()"
   ]
  },
  {
   "cell_type": "markdown",
   "metadata": {},
   "source": [
    "При большой размерности вектора и небольшой выборке моя реализация быстрее, а также при размере выборки хотя бы 200, но это неточно."
   ]
  },
  {
   "cell_type": "markdown",
   "metadata": {},
   "source": [
    "В задаче будут оцениваться:\n",
    "- удалось ли вам обогнать библиотечную функцию;\n",
    "- использованы ли вы матричные разложения (или просто обратили матрицу:))\n",
    "- наличие дополнительных оптимизаций"
   ]
  },
  {
   "cell_type": "markdown",
   "metadata": {},
   "source": [
    "## Часть 3. Разреженные матрицы"
   ]
  },
  {
   "cell_type": "markdown",
   "metadata": {},
   "source": [
    "Матрица называется разреженной, если в ней мало ненулевых элементов.\n",
    "\n",
    "Например, если в матрице $n\\times n$ порядка $O(n)$ ненулевых элементов, она является разреженной.\n",
    "\n",
    "Зачастую размерность разреженных матриц, возникающих в реальных задачах, так велика, что хранить её в памяти вместе с нулями - непозволительная роскошь. Есть несколько экономичных методов хранения:\n",
    "\n",
    "- `Dictionary of Keys` (`DOK`) - словарь `(i,j):element`. \n",
    "\n",
    "    $\\color{green}{\\oplus}$ быстрое добавление элементов с произвольными индексами,\n",
    "  \n",
    "    $\\color{red}{\\ominus}$ любые другие операции будут производиться медленно.\n",
    "\n",
    "\n",
    "- `List of Lists` (`LIL`) - матрица хранится построчно: в виде двух массивов `[l_1,...,l_s]` и `[v_1,...v_s]`, где `l_i` - список номеров столбцов, в которых в i-й строке находится ненулевой элемент, а `v_i` - список соответствующих значений. В целом, подходит для создания в высокой степени разреженной матрицы. Когда все элементы добавлены, лучше перевести в формат `CSR` или `CSC`.\n",
    "\n",
    "    $\\color{green}{\\oplus}$ добавление за линейное время, \n",
    "    \n",
    "    $\\color{green}{\\oplus}$ быстрый доступ к строкам матрицы, \n",
    "    \n",
    "    $\\color{red}{\\ominus}$ может требовать слишком много памяти (для создания матриц повышенной плотности используйте `COO`).\n",
    "\n",
    "    \n",
    "- `Coordinate List` (`COO`) - хранятся тройки `(row, column, value)`  или три массива \\texttt{rows,\\ columns,\\ values}. При этом тройка с одинаковым началом `(row, column)` может быть не одна; при преобразовании к другому типу значения `value` суммируются.\n",
    "\n",
    "    $\\color{green}{\\oplus}$ быстрое добавление новых элементов,\n",
    "    \n",
    "    $\\color{red}{\\ominus}$ для всего остального лучше перевести в другой формат.\n",
    "    \n",
    "    \n",
    "- `Compressed Sparse Row/Column storage` (`CSR/CSC`) - разберём на примере `CSR`. Хранятся три массива: `values`, `indptr` и `indices`. В массиве `values` хранятся все ненулевые элементы матрицы, упорядоченные лексикографически по паре (строка, столбец); `indptr[i]` - индекс начала `i`-й строки, `indices[indptr[i]:indptr[i+1]-1]` - номера столбцов соответствующих элементов.\n",
    "\n",
    "    $\\color{green}{\\oplus}$ быстрое выполнение арифметических операций,\n",
    "    \n",
    "    $\\color{green}{\\oplus}$ быстрый доступ к строкам для `CSR` и к столбцам для `CSC`,\n",
    "    \n",
    "    $\\color{red}{\\ominus}$ очень медленный доступ к столбцам для `CSR` и к строкам для `CSC`,\n",
    "    \n",
    "    $\\color{red}{\\ominus}$ медленное добавление/удаление элементов.\n",
    "  \n",
    "\n",
    "Главный вывод - не надо один и тот же формат использовать для разных целей!\n",
    "\n",
    "Вот здесь http://docs.scipy.org/doc/scipy/reference/sparse.html можно посмотреть, как эти возможности реализованы в библиотеке `scipy`.\n",
    "\n",
    "Вот здесь https://www.cise.ufl.edu/research/sparse/matrices/index.html выложено много разреженных матриц из разнообразных приложений. Что особенно приятно, сайт предоставляет удобный клиент для скачивания, в котором доступен предпросмотр и данные о том, являются ли матрицы симметричными или положительно определёнными."
   ]
  },
  {
   "cell_type": "markdown",
   "metadata": {},
   "source": [
    "**Задание 3.0** Загрузите файл `sparse_matrix1.mtx`"
   ]
  },
  {
   "cell_type": "code",
   "execution_count": 15,
   "metadata": {
    "collapsed": true
   },
   "outputs": [],
   "source": [
    "import scipy.io as sio"
   ]
  },
  {
   "cell_type": "code",
   "execution_count": 16,
   "metadata": {
    "collapsed": false
   },
   "outputs": [],
   "source": [
    "A = sio.mmread('./sparse_matrix1.mtx') # Please type right folder name! "
   ]
  },
  {
   "cell_type": "markdown",
   "metadata": {},
   "source": [
    "С помощью следующей функции можно посмотреть, как расположены ненулевые элементы матрицы:"
   ]
  },
  {
   "cell_type": "code",
   "execution_count": 178,
   "metadata": {
    "collapsed": false
   },
   "outputs": [
    {
     "data": {
      "text/plain": [
       "<matplotlib.lines.Line2D at 0x7fb6df640908>"
      ]
     },
     "execution_count": 178,
     "metadata": {},
     "output_type": "execute_result"
    },
    {
     "data": {
      "image/png": "[encoded data removed]",
      "text/plain": [
       "<matplotlib.figure.Figure at 0x7fb6dfef7390>"
      ]
     },
     "metadata": {},
     "output_type": "display_data"
    }
   ],
   "source": [
    "plt.spy(A, marker='.', markersize=0.4)"
   ]
  },
  {
   "cell_type": "markdown",
   "metadata": {},
   "source": [
    "В каком из пяти форматов хранится матрица? Для ответа на этот вопрос воспользуйтесь функцию `type`.\n",
    "\n",
    "Сколько в ней ненулевых элементов?"
   ]
  },
  {
   "cell_type": "code",
   "execution_count": 182,
   "metadata": {
    "collapsed": false
   },
   "outputs": [
    {
     "name": "stdout",
     "output_type": "stream",
     "text": [
      "<class 'scipy.sparse.coo.coo_matrix'>\n",
      "94026\n"
     ]
    }
   ],
   "source": [
    "print(type(A))\n",
    "print(A.nnz)"
   ]
  },
  {
   "cell_type": "markdown",
   "metadata": {},
   "source": [
    "Посмотрим, сколько времени занимает преобразование между разными форматами."
   ]
  },
  {
   "cell_type": "code",
   "execution_count": 183,
   "metadata": {
    "collapsed": false
   },
   "outputs": [
    {
     "data": {
      "text/html": [
       "<div>\n",
       "<table border=\"1\" class=\"dataframe\">\n",
       "  <thead>\n",
       "    <tr style=\"text-align: right;\">\n",
       "      <th></th>\n",
       "      <th>COO</th>\n",
       "      <th>DOK</th>\n",
       "      <th>LIL</th>\n",
       "      <th>CSR</th>\n",
       "      <th>CSC</th>\n",
       "    </tr>\n",
       "  </thead>\n",
       "  <tbody>\n",
       "    <tr>\n",
       "      <th>COO</th>\n",
       "      <td>NaN</td>\n",
       "      <td>0.060371</td>\n",
       "      <td>0.024743</td>\n",
       "      <td>0.000710</td>\n",
       "      <td>0.000775</td>\n",
       "    </tr>\n",
       "    <tr>\n",
       "      <th>DOK</th>\n",
       "      <td>0.108456</td>\n",
       "      <td>NaN</td>\n",
       "      <td>0.122046</td>\n",
       "      <td>0.094265</td>\n",
       "      <td>0.116847</td>\n",
       "    </tr>\n",
       "    <tr>\n",
       "      <th>LIL</th>\n",
       "      <td>0.016086</td>\n",
       "      <td>0.083345</td>\n",
       "      <td>NaN</td>\n",
       "      <td>0.013654</td>\n",
       "      <td>0.017219</td>\n",
       "    </tr>\n",
       "    <tr>\n",
       "      <th>CSR</th>\n",
       "      <td>0.001302</td>\n",
       "      <td>0.082525</td>\n",
       "      <td>0.033301</td>\n",
       "      <td>NaN</td>\n",
       "      <td>0.000642</td>\n",
       "    </tr>\n",
       "    <tr>\n",
       "      <th>CSC</th>\n",
       "      <td>0.001039</td>\n",
       "      <td>0.102148</td>\n",
       "      <td>0.023388</td>\n",
       "      <td>0.000554</td>\n",
       "      <td>NaN</td>\n",
       "    </tr>\n",
       "  </tbody>\n",
       "</table>\n",
       "</div>"
      ],
      "text/plain": [
       "          COO       DOK       LIL       CSR       CSC\n",
       "COO       NaN  0.060371  0.024743  0.000710  0.000775\n",
       "DOK  0.108456       NaN  0.122046  0.094265  0.116847\n",
       "LIL  0.016086  0.083345       NaN  0.013654  0.017219\n",
       "CSR  0.001302  0.082525  0.033301       NaN  0.000642\n",
       "CSC  0.001039  0.102148  0.023388  0.000554       NaN"
      ]
     },
     "execution_count": 183,
     "metadata": {},
     "output_type": "execute_result"
    }
   ],
   "source": [
    "import pandas as pd\n",
    "import timeit\n",
    "\n",
    "A_dok = A.todok()\n",
    "A_lil = A.tolil()\n",
    "A_csc = A.tocsc()\n",
    "A_csr = A.tocsr()\n",
    "\n",
    "conversion_times = pd.DataFrame(\n",
    "    index=['COO', 'DOK', 'LIL', 'CSR', 'CSC'],\n",
    "    columns=['COO', 'DOK', 'LIL', 'CSR', 'CSC'],\n",
    "    data={\n",
    "        'COO': [\n",
    "            np.nan,\n",
    "            timeit.timeit('A.todok()', 'from __main__ import A', number=100) / 100,\n",
    "            timeit.timeit('A.tolil()', 'from __main__ import A', number=100) / 100,\n",
    "            timeit.timeit('A.tocsr()', 'from __main__ import A', number=100) / 100,\n",
    "            timeit.timeit('A.tocsc()', 'from __main__ import A', number=100) / 100,\n",
    "               ],\n",
    "        'DOK': [\n",
    "            timeit.timeit('A_dok.tocoo()', 'from __main__ import A_dok', number=100) / 100,\n",
    "            np.nan,\n",
    "            timeit.timeit('A_dok.tolil()', 'from __main__ import A_dok', number=100) / 100,\n",
    "            timeit.timeit('A_dok.tocsr()', 'from __main__ import A_dok', number=100) / 100,\n",
    "            timeit.timeit('A_dok.tocsc()', 'from __main__ import A_dok', number=100) / 100,\n",
    "               ],\n",
    "        'LIL': [\n",
    "            timeit.timeit('A_lil.tocoo()', 'from __main__ import A_lil', number=100) / 100,\n",
    "            timeit.timeit('A_lil.todok()', 'from __main__ import A_lil', number=100) / 100,\n",
    "            np.nan,\n",
    "            timeit.timeit('A_lil.tocsr()', 'from __main__ import A_lil', number=100) / 100,\n",
    "            timeit.timeit('A_lil.tocsc()', 'from __main__ import A_lil', number=100) / 100,\n",
    "               ],\n",
    "        'CSR': [\n",
    "            timeit.timeit('A_csr.tocoo()', 'from __main__ import A_csr', number=100) / 100,\n",
    "            timeit.timeit('A_csr.todok()', 'from __main__ import A_csr', number=100) / 100,\n",
    "            timeit.timeit('A_csr.tolil()', 'from __main__ import A_csr', number=100) / 100,\n",
    "            np.nan,\n",
    "            timeit.timeit('A_csr.tocsc()', 'from __main__ import A_csr', number=100) / 100,\n",
    "               ],\n",
    "        'CSC': [\n",
    "            timeit.timeit('A_csc.tocoo()', 'from __main__ import A_csc', number=100) / 100,\n",
    "            timeit.timeit('A_csc.todok()', 'from __main__ import A_csc', number=100) / 100,\n",
    "            timeit.timeit('A_csc.tolil()', 'from __main__ import A_csc', number=100) / 100,\n",
    "            timeit.timeit('A_csc.tocsr()', 'from __main__ import A_csc', number=100) / 100,\n",
    "            np.nan,\n",
    "               ],\n",
    "    }\n",
    "    )\n",
    "\n",
    "conversion_times.T"
   ]
  },
  {
   "cell_type": "markdown",
   "metadata": {},
   "source": [
    "Как вы можете убедиться, быстрее всего преобразования происходят между форматами `COO`, `CSR` и `CSC`, а хуже всего дела обстоят с форматом `DOK`: все преобразования из него занимают чудовищно много времени."
   ]
  },
  {
   "cell_type": "markdown",
   "metadata": {},
   "source": [
    "**Задание 3.1 (0,5 балла)** Почему преобразование из формата `LIL` в формат `CSR` занимает такую пропасть времени?\n",
    "\n",
    "----\n",
    "Номера столбцов нельзя просто скопировать в indices, нужно еще их предварительно отсортировать, а это занимает довольно много времени."
   ]
  },
  {
   "cell_type": "markdown",
   "metadata": {},
   "source": [
    "**Задание 3.2 (1 балл)** Торговая сеть предоставила вам данные о покупках своих клиентов, представляющие собою список из нескольких сотен тысяч чеков (списков покупок). Для того, чтобы определить, какие товары чаще покупают вместе, вы решили построить матрицу, строки и столбцы которой соответствуют различным товарам (предположим, что число различных товаров тоже измеряется сотнями тысяч), а в клетке с \"номером\" $(g_1, g_2)$ стоит число\n",
    "\n",
    "$\\log_2{\\frac{N\\cdot c(g_1 \\& g_2)}{c(g_1)c(g_2)}},$\n",
    "\n",
    "где $c(g_i)$ --- количество чеков, содержащих товар $g_i$, $c(g_1 \\& g_2)$ --- количество чеков, содержащих оба товара, $N$ --- общее число чеков. В каком формате вы будете создавать эту (очевидно разреженную) матрицу? Почему?"
   ]
  },
  {
   "cell_type": "markdown",
   "metadata": {},
   "source": [
    "----\n",
    "Поскольку мы хотим исследовать выгруженные данные, то есть производить различные арифметические операции с эдементами матрицы, которые в дальнейшем не будут изменяться, то самым разумным форматом будет CSR или CSC. То есть первоначальное построение можно сделать в формат COO, а затем перевести в CSR."
   ]
  },
  {
   "cell_type": "markdown",
   "metadata": {},
   "source": [
    "Напишите максимально эффективный код, создающий эту матрицу:"
   ]
  },
  {
   "cell_type": "code",
   "execution_count": null,
   "metadata": {
    "collapsed": true
   },
   "outputs": [],
   "source": [
    "def CreateMatrix(receipts):\n",
    "    # Your code here\n",
    "    \n",
    "    for receipt in receipts:\n",
    "        # Your code here"
   ]
  },
  {
   "cell_type": "markdown",
   "metadata": {},
   "source": [
    "**Задание 3.3 (1 балл)** В каком из форматов `LIL` и `COO` умножение на вектор происходит быстрее? Почему? Проведите эксперименты. Можете воспользоваться функцией `scipy.sparse.random` для создания случайных разреженных матриц.\n",
    "\n",
    "Насколько быстрее с аналогичной задачей будут справляться форматы `CSC` и `CSR`?"
   ]
  },
  {
   "cell_type": "markdown",
   "metadata": {
    "collapsed": true
   },
   "source": [
    "----\n",
    "*Ваш ответ:*"
   ]
  },
  {
   "cell_type": "code",
   "execution_count": 11,
   "metadata": {
    "collapsed": false
   },
   "outputs": [
    {
     "name": "stdout",
     "output_type": "stream",
     "text": [
      "Current density is equal: 0.001\n"
     ]
    },
    {
     "data": {
      "text/html": [
       "<div>\n",
       "<table border=\"1\" class=\"dataframe\">\n",
       "  <thead>\n",
       "    <tr style=\"text-align: right;\">\n",
       "      <th></th>\n",
       "      <th>COO</th>\n",
       "      <th>DOK</th>\n",
       "      <th>LIL</th>\n",
       "      <th>CSR</th>\n",
       "      <th>CSC</th>\n",
       "    </tr>\n",
       "  </thead>\n",
       "  <tbody>\n",
       "    <tr>\n",
       "      <th>matrix</th>\n",
       "      <td>0.001106</td>\n",
       "      <td>0.004423</td>\n",
       "      <td>0.002788</td>\n",
       "      <td>0.000724</td>\n",
       "      <td>0.000926</td>\n",
       "    </tr>\n",
       "  </tbody>\n",
       "</table>\n",
       "</div>"
      ],
      "text/plain": [
       "             COO       DOK       LIL       CSR       CSC\n",
       "matrix  0.001106  0.004423  0.002788  0.000724  0.000926"
      ]
     },
     "metadata": {},
     "output_type": "display_data"
    },
    {
     "name": "stdout",
     "output_type": "stream",
     "text": [
      "Current density is equal: 0.005\n"
     ]
    },
    {
     "data": {
      "text/html": [
       "<div>\n",
       "<table border=\"1\" class=\"dataframe\">\n",
       "  <thead>\n",
       "    <tr style=\"text-align: right;\">\n",
       "      <th></th>\n",
       "      <th>COO</th>\n",
       "      <th>DOK</th>\n",
       "      <th>LIL</th>\n",
       "      <th>CSR</th>\n",
       "      <th>CSC</th>\n",
       "    </tr>\n",
       "  </thead>\n",
       "  <tbody>\n",
       "    <tr>\n",
       "      <th>matrix</th>\n",
       "      <td>0.001873</td>\n",
       "      <td>0.024194</td>\n",
       "      <td>0.005294</td>\n",
       "      <td>0.000961</td>\n",
       "      <td>0.001268</td>\n",
       "    </tr>\n",
       "  </tbody>\n",
       "</table>\n",
       "</div>"
      ],
      "text/plain": [
       "             COO       DOK       LIL       CSR       CSC\n",
       "matrix  0.001873  0.024194  0.005294  0.000961  0.001268"
      ]
     },
     "metadata": {},
     "output_type": "display_data"
    },
    {
     "name": "stdout",
     "output_type": "stream",
     "text": [
      "Current density is equal: 0.01\n"
     ]
    },
    {
     "data": {
      "text/html": [
       "<div>\n",
       "<table border=\"1\" class=\"dataframe\">\n",
       "  <thead>\n",
       "    <tr style=\"text-align: right;\">\n",
       "      <th></th>\n",
       "      <th>COO</th>\n",
       "      <th>DOK</th>\n",
       "      <th>LIL</th>\n",
       "      <th>CSR</th>\n",
       "      <th>CSC</th>\n",
       "    </tr>\n",
       "  </thead>\n",
       "  <tbody>\n",
       "    <tr>\n",
       "      <th>matrix</th>\n",
       "      <td>0.002152</td>\n",
       "      <td>0.051054</td>\n",
       "      <td>0.008944</td>\n",
       "      <td>0.001084</td>\n",
       "      <td>0.002027</td>\n",
       "    </tr>\n",
       "  </tbody>\n",
       "</table>\n",
       "</div>"
      ],
      "text/plain": [
       "             COO       DOK       LIL       CSR       CSC\n",
       "matrix  0.002152  0.051054  0.008944  0.001084  0.002027"
      ]
     },
     "metadata": {},
     "output_type": "display_data"
    },
    {
     "name": "stdout",
     "output_type": "stream",
     "text": [
      "Current density is equal: 0.05\n"
     ]
    },
    {
     "data": {
      "text/html": [
       "<div>\n",
       "<table border=\"1\" class=\"dataframe\">\n",
       "  <thead>\n",
       "    <tr style=\"text-align: right;\">\n",
       "      <th></th>\n",
       "      <th>COO</th>\n",
       "      <th>DOK</th>\n",
       "      <th>LIL</th>\n",
       "      <th>CSR</th>\n",
       "      <th>CSC</th>\n",
       "    </tr>\n",
       "  </thead>\n",
       "  <tbody>\n",
       "    <tr>\n",
       "      <th>matrix</th>\n",
       "      <td>0.005484</td>\n",
       "      <td>0.289196</td>\n",
       "      <td>0.035399</td>\n",
       "      <td>0.002502</td>\n",
       "      <td>0.005648</td>\n",
       "    </tr>\n",
       "  </tbody>\n",
       "</table>\n",
       "</div>"
      ],
      "text/plain": [
       "             COO       DOK       LIL       CSR       CSC\n",
       "matrix  0.005484  0.289196  0.035399  0.002502  0.005648"
      ]
     },
     "metadata": {},
     "output_type": "display_data"
    }
   ],
   "source": [
    "import pandas as pd\n",
    "from IPython.display import display, HTML\n",
    "import timeit\n",
    "\n",
    "D = 2000\n",
    "\n",
    "for density in [0.001, 0.005, 0.010, 0.050]:\n",
    "    print('Current density is equal: {0}'.format(density))\n",
    "    sparse_matrix = sps.random(D, D, density=density)\n",
    "\n",
    "    rand_vector = sps.random(D, 1, density=1.0);\n",
    "\n",
    "    sparse_coo = sparse_matrix.tocoo()\n",
    "    sparse_dok = sparse_matrix.todok()\n",
    "    sparse_lil = sparse_matrix.tolil()\n",
    "    sparse_csr = sparse_matrix.tocsr()\n",
    "    sparse_csc = sparse_matrix.tocsc()\n",
    "\n",
    "    conversion_times = pd.DataFrame(\n",
    "        index=['COO', 'DOK', 'LIL', 'CSR', 'CSC'],\n",
    "        columns=['matrix'],\n",
    "        data={\n",
    "            'matrix': [\n",
    "                timeit.timeit('sparse_coo.multiply(rand_vector)', 'from __main__ import sparse_coo, rand_vector', \n",
    "                              number=100) / 100,\n",
    "                timeit.timeit('sparse_dok.multiply(rand_vector)', 'from __main__ import sparse_dok, rand_vector',\n",
    "                              number=100) / 100,\n",
    "                timeit.timeit('sparse_lil.multiply(rand_vector)', 'from __main__ import sparse_lil, rand_vector',\n",
    "                              number=100) / 100,\n",
    "                timeit.timeit('sparse_csr.multiply(rand_vector)', 'from __main__ import sparse_csr, rand_vector',\n",
    "                              number=100) / 100,\n",
    "                timeit.timeit('sparse_csc.multiply(rand_vector)', 'from __main__ import sparse_csc, rand_vector',\n",
    "                              number=100) / 100,\n",
    "                   ],\n",
    "            }\n",
    "        )\n",
    "    display(conversion_times.T)"
   ]
  },
  {
   "cell_type": "markdown",
   "metadata": {},
   "source": [
    "Перемножение в формате COO быстрее, чем в LIL, потому что по дефолту все перемножения происходят после предварительного перевода матрицы в csr формат. В предыдущем задании мы видели, что перевод из LIL в CSR медленее, чем из COO в CSR. \n",
    "Поэтому и CSC немного медленее CSR из-за дефолтного поведения перемножения."
   ]
  },
  {
   "cell_type": "markdown",
   "metadata": {},
   "source": [
    "## Часть 4. Итерационные методы"
   ]
  },
  {
   "cell_type": "markdown",
   "metadata": {},
   "source": [
    "В этом задании вам предлагается поработать с итеративными методами решения систем уравнений.\n",
    "\n",
    "Соответствующие функции реализованы в пакете `scipy.sparse.linalg` (http://docs.scipy.org/doc/scipy-0.14.0/reference/sparse.linalg.html). Пожалуйста, читайте документацию перед их применением!"
   ]
  },
  {
   "cell_type": "markdown",
   "metadata": {},
   "source": [
    "В этом задании вам предстоит поближе познакомиться с двумя итеративными методами:\n",
    "\n",
    "1. **(L)GMRES** (мы настоятельно рекомендуем использовать оптимизированную функцию `scipy.sparse.linalg.lgmres`, даже если вам нужен обыкновенный **GMRES**)\n",
    "\n",
    "2. **CG** (вызывается функцией `scipy.sparse.linalg.cg`)\n",
    "\n",
    "*Замечания*:\n",
    "1. Функции `scipy.sparse.linalg.lgmres` и `scipy.sparse.linalg.cs` устроены так, что могут решать уравнения только с векторной правой частью.\n",
    "2. Внимательно ознакомьтесь с параметрами (у функции `scipy.sparse.linalg.lgmres` их очень много) и обратите внимание на формат вывода функций.\n",
    "3. Вы можете захотеть выводить/сохранять что-нибудь после каждой итерации. Для этого существует параметр `callback`: это функция с сигнатурой `callback(xk)`, вызываемая на каждой итерации. Её аргумент `xk` - это текущее приближение $x_k$. Вот пример вызова функции `lgmres`, печатающей норму текущего приближения:"
   ]
  },
  {
   "cell_type": "code",
   "execution_count": 18,
   "metadata": {
    "collapsed": true
   },
   "outputs": [],
   "source": [
    "A = np.matrix([[3, 2], [2, 1]])\n",
    "b = np.array([3, 100])"
   ]
  },
  {
   "cell_type": "code",
   "execution_count": 20,
   "metadata": {
    "collapsed": false
   },
   "outputs": [
    {
     "name": "stdout",
     "output_type": "stream",
     "text": [
      "0.877887422501\n",
      "9.28721695498e-16\n"
     ]
    }
   ],
   "source": [
    "x = spla.gmres(A, b, callback=lambda xk: print(sla.norm(xk)))"
   ]
  },
  {
   "cell_type": "markdown",
   "metadata": {},
   "source": [
    "Если вы захотите что-нибудь сохранять по ходу дела, логичнее использовать для этого класс. Ниже приводим пример класса, считающего число итераций и выводящего (если указан флаг `disp`) номер каждой итерации на печать, а также запоминающего все промежуточные приближения (не делайте так для больших систем! вам может не хватить памяти):"
   ]
  },
  {
   "cell_type": "code",
   "execution_count": 23,
   "metadata": {
    "collapsed": false
   },
   "outputs": [
    {
     "name": "stdout",
     "output_type": "stream",
     "text": [
      "iter   1\n",
      "iter   2\n",
      "(array([ 197., -294.]), 0)\n",
      "2\n"
     ]
    }
   ],
   "source": [
    "class iterative_counter(object):\n",
    "    def __init__(self, disp=True):\n",
    "        self._disp = disp\n",
    "        self.niter = 0\n",
    "        self.all_x = [] # Please discard this if you solve large systems!!!\n",
    "        \n",
    "    def __call__(self, xk=None):\n",
    "        self.niter += 1\n",
    "        self.all_x.append(xk) # Please discard this if you solve large systems!!!\n",
    "        if self._disp:\n",
    "            print('iter %3i' % (self.niter))\n",
    "            \n",
    "my_counter = iterative_counter() # We need to create an instance of the class\n",
    "\n",
    "x = spla.gmres(A, b, callback=my_counter)\n",
    "\n",
    "print(x)\n",
    "print(my_counter.niter) # Will print total number of iterations"
   ]
  },
  {
   "cell_type": "markdown",
   "metadata": {},
   "source": [
    "**Задание 4.1 (3 балла)** Довольно игр! Пора решать большие системы. Загрузите матрицу из файла `large_system.mtx` (она симметричная и положительно определённая) и сгенерируйте случайную правую часть. Решите систему с помощью функции `scipy.sparse.linalg.spsolve` (сильно оптимизированный \"точный\" решатель) и с помощью итеративных методов `LGMRES` и `CG`. Сравните скорость работы этих методов.\n",
    "\n",
    "Постарайтесь обогнать функцию `spsolve`, применяя предобуславливание с помощью одной итерации метода Якоби или с помощью неполного LU-разложения. Для ILU постарайтесь подобрать оптимальные значения коэффициентов `fill_factor` и `drop_tol`.\n",
    "\n",
    "*Замечание.* Если матрица-предобуславливатель $P$ не совсем уж тривиальная, не надо её обращать и умножать на исходную матрицу!\n",
    "\n",
    "В каждом из итеративных методов можно включить предобуславливание с помощью параметра `M`. В качестве этого параметра нужно передать либо матрицу $P^{-1}$, либо **линейный оператор**, осуществляющий умножение вектора на $P^{-1}$. По понятным причинам второе гораздо правильнее. Делается это следующим образом. Например, если вы хотите ввести предобуславливание с конкретной матрицей $P$ для решения системы $Ax = b$:"
   ]
  },
  {
   "cell_type": "code",
   "execution_count": 34,
   "metadata": {
    "collapsed": false
   },
   "outputs": [],
   "source": [
    "A = sio.mmread(r'Pres_Poisson.mtx')\n",
    "b = np.random.rand(A.shape[0])\n",
    "P = sps.diags(A.diagonal())"
   ]
  },
  {
   "cell_type": "code",
   "execution_count": 40,
   "metadata": {
    "collapsed": false
   },
   "outputs": [
    {
     "data": {
      "text/plain": [
       "<matplotlib.lines.Line2D at 0x7f0e6e0d7470>"
      ]
     },
     "execution_count": 40,
     "metadata": {},
     "output_type": "execute_result"
    },
    {
     "data": {
      "image/png": "[encoded data removed]",
      "text/plain": [
       "<matplotlib.figure.Figure at 0x7f0e6a1be0b8>"
      ]
     },
     "metadata": {},
     "output_type": "display_data"
    }
   ],
   "source": [
    "plt.spy(A, marker='.', markersize=0.4)"
   ]
  },
  {
   "cell_type": "code",
   "execution_count": 82,
   "metadata": {
    "collapsed": true
   },
   "outputs": [],
   "source": [
    "num_launches = 5"
   ]
  },
  {
   "cell_type": "markdown",
   "metadata": {},
   "source": [
    "Попробуем метод cg"
   ]
  },
  {
   "cell_type": "code",
   "execution_count": 68,
   "metadata": {
    "collapsed": false
   },
   "outputs": [
    {
     "name": "stdout",
     "output_type": "stream",
     "text": [
      "5.189453786006197\n"
     ]
    }
   ],
   "source": [
    "print(timeit.timeit('spla.cg(A, b)', 'from __main__ import A, b, spla', number=num_launches) / num_launches)"
   ]
  },
  {
   "cell_type": "markdown",
   "metadata": {},
   "source": [
    "А теперь оптимизированный spsolve"
   ]
  },
  {
   "cell_type": "code",
   "execution_count": 113,
   "metadata": {
    "collapsed": false
   },
   "outputs": [
    {
     "name": "stdout",
     "output_type": "stream",
     "text": [
      "0.9061273086001165\n"
     ]
    }
   ],
   "source": [
    "print(timeit.timeit('spla.spsolve(A, b)', 'from __main__ import A, b, spla', number=num_launches) / num_launches)"
   ]
  },
  {
   "cell_type": "markdown",
   "metadata": {},
   "source": [
    "Метод lgmres с предобуславливанием диагональю исходной матрицы."
   ]
  },
  {
   "cell_type": "code",
   "execution_count": 71,
   "metadata": {
    "collapsed": false
   },
   "outputs": [
    {
     "name": "stdout",
     "output_type": "stream",
     "text": [
      "18.85699620700325\n"
     ]
    }
   ],
   "source": [
    "M = spla.LinearOperator(A.shape, lambda x: spla.spsolve(P, x))\n",
    "print(timeit.timeit('spla.lgmres(A, b, M=M)', 'from __main__ import A, b, M, spla',\n",
    "                    number=num_launches) / num_launches)"
   ]
  },
  {
   "cell_type": "markdown",
   "metadata": {},
   "source": [
    "Видим, что данный метод сходится довольно медленно. "
   ]
  },
  {
   "cell_type": "markdown",
   "metadata": {
    "collapsed": true
   },
   "source": [
    "А вот как это работает для неполного LU-разложения:"
   ]
  },
  {
   "cell_type": "code",
   "execution_count": 112,
   "metadata": {
    "collapsed": false
   },
   "outputs": [
    {
     "name": "stdout",
     "output_type": "stream",
     "text": [
      "1.2063878409971949\n"
     ]
    }
   ],
   "source": [
    "code = '''\\\n",
    "my_ILU = spla.spilu(A)\n",
    "M = spla.LinearOperator(A.shape, lambda x: my_ILU.solve(x))\n",
    "x = spla.lgmres(A, b, M=M)\n",
    "'''\n",
    "print(timeit.timeit(code, 'from __main__ import A, b, spla',\n",
    "                    number=num_launches) / num_launches)"
   ]
  },
  {
   "cell_type": "markdown",
   "metadata": {
    "collapsed": true
   },
   "source": [
    "Обратите внимание, что `my_ILU` --- это не просто tuple из четырёх матриц (`spilu` делает разложение вида $P_1AP_2 = LU$, где $P_i$ --- матрицы перестановок). В самом деле, как вы уже, наверное, поняли, в мире больших размерностей иметь матрицу --- это зачастую бесполезное или даже вредное занятие. Гораздо ценнее уметь быстро решать систему с этой матрицей. Поэтому `my_ILU` --- это в первую очередь не разложение (впрочем, матрицы при желании тоже можно извлечь), а оптимизированный решатель `solve`."
   ]
  },
  {
   "cell_type": "code",
   "execution_count": 108,
   "metadata": {
    "collapsed": false
   },
   "outputs": [
    {
     "name": "stdout",
     "output_type": "stream",
     "text": [
      "fill_factor=15.0, drop_tol=0.001"
     ]
    }
   ],
   "source": [
    "grid = {}\n",
    "num_launches = 5\n",
    "\n",
    "for fill_factor in np.linspace(5.0, 15.0, num=5):\n",
    "    for drop_tol in np.linspace(1e-4, 1e-3, num=5):\n",
    "        dynamic_print('fill_factor={}, drop_tol={}'.format(fill_factor, drop_tol))\n",
    "        code = '''\n",
    "my_ILU = spla.spilu(A, fill_factor=fill_factor, drop_tol=drop_tol)\n",
    "M = spla.LinearOperator(A.shape, lambda x: my_ILU.solve(x))\n",
    "x = spla.lgmres(A, b, M=M)\n",
    "'''\n",
    "        grid[(fill_factor, drop_tol)] = timeit.timeit(code, 'from __main__ import A, b, spla, fill_factor, drop_tol',\n",
    "                                                      number=num_launches) / num_launches"
   ]
  },
  {
   "cell_type": "code",
   "execution_count": 110,
   "metadata": {
    "collapsed": false
   },
   "outputs": [
    {
     "data": {
      "text/plain": [
       "((5.0, 0.00032499999999999999), 1.1251384589995723)"
      ]
     },
     "execution_count": 110,
     "metadata": {},
     "output_type": "execute_result"
    }
   ],
   "source": [
    "min(grid.items(), key=lambda x: x[1])"
   ]
  },
  {
   "cell_type": "markdown",
   "metadata": {},
   "source": [
    "Обогнать не получилось, но лучшее параметры $fill\\_factor = 5$ и $drop\\_tol = 0.000325$"
   ]
  },
  {
   "cell_type": "markdown",
   "metadata": {},
   "source": [
    "## Часть 5. Матричные дифференцирования"
   ]
  },
  {
   "cell_type": "markdown",
   "metadata": {},
   "source": [
    "**Задача 5.1 (1 балл)** Пусть $f$ --- функция на множестве квадратных матриц $n\\times n$, а $g$ --- функция на множестве симметричных матриц $n\\times n$, совпадающая с $f$ на своей области определения. Докажите, что\n",
    "\n",
    "$$\\frac{\\partial g}{\\partial X} = \\frac{\\partial f}{\\partial X} + \\left(\\frac{\\partial f}{\\partial X}\\right)^T -\n",
    "\\mathrm{diag}\\left(\\frac{\\partial f}{\\partial x_{11}}, \\frac{\\partial f}{\\partial x_{22}},\\ldots,\n",
    "\\frac{\\partial f}{\\partial x_{nn}}\\right)$$"
   ]
  },
  {
   "cell_type": "markdown",
   "metadata": {},
   "source": [
    "$g(X) = g(x_{ij}), i \\leq j$, причем $g(x_{11}, \\dots x_{ij}(i \\leq j), \\dots x_{nn}) = f(x_{11}, \\dots x_{nn})$. Значит в силу того, что $x_{ij} = x_{ji}$ для $i \\neq j$, $x_{ij}$ встречается среди аргументов $f$ два раза, а следовательно: $\\frac{\\partial g}{x_{ij}} = \\frac{\\partial f}{x_{ij}} + \\frac{\\partial f}{x_{ji}}$ для $i \\ne j$. Если же $i = j$, то $x_{ij}$ встречается один раз среди аргументов $f$, следовательно  $\\frac{\\partial g}{\\partial x_{ij}} = \\frac{\\partial f}{\\partial  x_{ij}}$."
   ]
  },
  {
   "cell_type": "markdown",
   "metadata": {},
   "source": [
    "**Задача 5.2 (0.5 балла)** Найдите производную\n",
    "\n",
    "$$\\frac{\\partial\\mathrm{tr}\\left(AX^2BX^{-T}\\right)}{\\partial X}$$"
   ]
  },
  {
   "cell_type": "markdown",
   "metadata": {},
   "source": [
    "**Задача 5.3 (0.5 балла)** Найдите производную\n",
    "\n",
    "$$\\frac{\\partial\\ln{\\det\\left(X^TAX\\right)}}{\\partial X}$$"
   ]
  },
  {
   "cell_type": "markdown",
   "metadata": {},
   "source": [
    "$$\\frac{\\partial\\ln{\\det\\left(X^TAX\\right)}}{\\partial x_{ij}} = tr(\\frac{\\partial{(\\det{X^TAX})}}{\\partial X} \\cdot \\frac{\\partial{(X^TAX)}}{\\partial{x_{ij}}})\n",
    "$$\n",
    "$$\n",
    "\\frac{\\partial{(\\det{X^TAX})}}{\\partial X} = (X^TAX)^{-1}\n",
    "$$\n",
    "\n",
    "$$\\frac{\\partial{(X^TAX)}}{\\partial{x_{ij}}} = \\frac{\\partial{X^T}}{\\partial x_{ij}} (AX) + X^T \\frac{\\partial{(AX)}}{\\partial x_{ij}} = E_{ji}(AX) + X^TAE_{ij}$$\n",
    "\n",
    "Подставляем в первую формулу полученные выражения:\n",
    "$$\\frac{\\partial\\ln{\\det\\left(X^TAX\\right)}}{\\partial x_{ij}} = tr((X^TAX)^{-1}) \\cdot (E_{ji}(AX) + X^TAE_{ij}) =\n",
    "tr(E_{ji}(AX) \\cdot X^{-1}A^{-1}X^{-T}) + tr(X^{-1}A^{-1}X^{-T} \\cdot X^TAE_{ij}) = tr(E_{ji}X^{-T} + X^{-1}E_{ij}) = tr(2X^{-1}E_{ij}) = 2X^{-T}_{ij}\n",
    "$$\n",
    "\n",
    "Отсюда получаем итоговую формулу:\n",
    "$$\\frac{\\partial\\ln{\\det\\left(X^TAX\\right)}}{\\partial X} = 2X^{-T}\n",
    "$$"
   ]
  },
  {
   "cell_type": "markdown",
   "metadata": {},
   "source": [
    "**Задача 5.4 (1 балл)** Допустим, что векторы $y_1,\\ldots,y_m$ выбраны из многомерного нормального распределения с неизвестными вектором средних $m$ и ковариационной матрицей $\\Sigma$. В этом задании вам нужно будет найти оценки максимального правдоподобия $\\hat{m}$ и $\\hat{\\Sigma}$.\n",
    "\n",
    "Напомним вкратце, что такое оценка максимального правдоподобия в случае непрерывного распределения. Пусть $p(x|\\theta_1,\\ldots,\\theta_k)$ --- функция плотности распределения с неизвестными нам параметрами $\\theta_1,\\ldots,\\theta_k$, а $y_1,\\ldots,y_m$ --- выборка из этого распределения. \\textit{Функцией правдоподобия} назовём произведение $L(y_1\\ldots,y_m|\\theta_1,\\ldots,\\theta_k) := \\prod_{j=1}^kp(y_j|\\theta_1,\\ldots,\\theta_k)$; грубо говоря, это произведение показывает, насколько правдоподобно появление данной выборки $y_1,\\ldots,y_m$ при данных значениях параметров. В качестве оценки максимального правдоподобия выбирают те значения параметров, при которых функция правдоподобия достигает максимума. При этом как правило удобнее максимизировать не саму функцию правдоподобия, а *логарифмическую функцию правдоподобия* $l(y_1\\ldots,y_m|\\theta_1,\\ldots,\\theta_k) = \\ln{L(y_1\\ldots,y_m|\\theta_1,\\ldots,\\theta_k)}$.\n",
    "\n",
    "*Подсказка*. Постарайтесь превратить $\\sum_i(x_i - m)^T\\Sigma^{-1}(x_i - m)$ в функцию от матрицы $X$, столбцами которой являются векторы $x_i$."
   ]
  },
  {
   "cell_type": "markdown",
   "metadata": {},
   "source": [
    "Нужно искать максимум логарифма плотности многомерного распределения без учета констант  $-\\frac{1}{2} \\left ( \\sum_i(x_i - m)^T\\Sigma^{-1}(x_i - m) \\right) - \\frac{n}{2}\\ln{\\det{\\Sigma}}$.\n",
    "Заметим, что сумма из подсказки равна $tr(\\left( X - M\\right)^{T}\\Sigma^{-1}\\left(X - M \\right))$, где $M = (m, m, \\cdots, m)$. \n",
    "\n",
    "Обозначим за $A = X - M$. Тогда у нас задача минимизации функции: $tr\\left(A^{T}\\Sigma^{-1}A\\right) + n \\cdot \\ln{\\det{\\Sigma}}$. Возьмем производную по $\\Sigma$. Производная от логарифма равна $\\Sigma^{-T}$.\n",
    "\n",
    "$tr\\left(A^{T}\\Sigma^{-1}A\\right) = tr\\left(\\Sigma^{-1}AA^{T}\\right)$ по свойству следа матрицы. Обозначим $AA^{T}$ за $B$. \n",
    "\n",
    "$$\\frac{\\partial {tr(\\Sigma^{-1}B})}{\\partial \\Sigma} = tr (\\frac{\\partial \\Sigma^{-1}B}{\\partial \\Sigma}) = -X^{-T}B^TX^{-T}.$$\n",
    "\n",
    "Последнюю формулу можно получить, аналогично расписав производную по матричному элементу у обратной матрицы.\n",
    "\n",
    "Приравниваем к нулю производную по $\\Sigma$, получаем: $n \\Sigma^{-T} - \\Sigma^{-T}B^{T}\\Sigma^{-T} = 0 \\Rightarrow \\Sigma^{T} = B^T \\Rightarrow n \\cdot \\Sigma = B = AA^{T} = (X - M)\\cdot (X - M)^{T} = \\sum_i(x_i - m)(x_i - m)^{T}$. \n",
    "То есть $\\Sigma = \\frac{1}{n} \\sum_i(x_i - m)(x_i - m)^{T}.$\n",
    "\n",
    "Теперь возьмем производную по всем $m_1, m_2, \\cdots, m_n$. Легко видеть, что сюда войдет только сумма из подсказки и производная по $m_i$ будет выглядеть так, если обозначить $\\Sigma^{-1}$ за $A$:\n",
    "\n",
    "$p(x, \\Theta)^{'}_{m_i} = a_{k1}(m_1 - \\mathbb{E}x_1) + a_{k2}(m_2 - \\mathbb{E}x_2) + \\cdots + a_{kn}(m_n - \\mathbb{E}x_n) + a_{kk}(m_k - \\mathbb{E}x_n)$, где $\\mathbb{E}x_s$ среднее значение по s-ой координате выборки. Заметим, что если $m = \\mathbb{E}x$, то все производные действительно равны $0$. Иначе, если бы это было не так, то матрица $\\Sigma^{-1}$ была бы вырожденной, что невозможно.\n",
    "\n",
    "Ответ: $m = \\mathbb{E}x, \\Sigma = \\frac{1}{n} \\sum_i(x_i - m)(x_i - m)^{T}$."
   ]
  }
 ],
 "metadata": {
  "kernelspec": {
   "display_name": "Python 3",
   "language": "python",
   "name": "python3"
  },
  "language_info": {
   "codemirror_mode": {
    "name": "ipython",
    "version": 3
   },
   "file_extension": ".py",
   "mimetype": "text/x-python",
   "name": "python",
   "nbconvert_exporter": "python",
   "pygments_lexer": "ipython3",
   "version": "3.5.2"
  },
  "widgets": {
   "state": {},
   "version": "1.1.1"
  }
 },
 "nbformat": 4,
 "nbformat_minor": 0
}
